{
 "cells": [
  {
   "cell_type": "markdown",
   "metadata": {},
   "source": [
    "1. Alex\n",
    "2. Dal Cin\n",
    "3. 1088357\n",
    "4. QFI\n",
    "5. alex.dalcin@edu.unito.it"
   ]
  },
  {
   "cell_type": "code",
   "execution_count": 1690,
   "metadata": {},
   "outputs": [],
   "source": [
    "import pandas as pd\n",
    "import numpy as np"
   ]
  },
  {
   "cell_type": "markdown",
   "metadata": {},
   "source": [
    "## 0. Data Cleaning.\n",
    "\n",
    "I am going to divide this procedure in two sides.\n",
    "1. sales\n",
    "2. market\n",
    "\n",
    "Each of them will be checked column by column in order to see if it respects the requested conditions."
   ]
  },
  {
   "cell_type": "code",
   "execution_count": 1691,
   "metadata": {},
   "outputs": [
    {
     "name": "stdout",
     "output_type": "stream",
     "text": [
      "  market_id        date is_open  sales_amount    \n",
      "0      XC14  31/12/2022     YES      55727.34 NaN\n",
      "1      WG25  31/12/2022     YES      12984.10 NaN\n",
      "2      UX72  31/12/2022     YES      13046.56 NaN\n",
      "3      EE84  31/12/2022     YES      60916.76 NaN\n",
      "4      RF54  31/12/2022     YES      12376.42 NaN\n",
      "Values in the void column:\n",
      "[nan]\n"
     ]
    },
    {
     "data": {
      "text/plain": [
       "Index(['market_id', 'date', 'is_open', 'sales_amount'], dtype='object')"
      ]
     },
     "execution_count": 1691,
     "metadata": {},
     "output_type": "execute_result"
    }
   ],
   "source": [
    "\n",
    "sales=pd.read_csv(\"sales.csv\")\n",
    "#1.\n",
    "print(sales.head(5)) #check the first 5 data, to see if there is something strange in our dataset. Actually, there is a column of NaN.\n",
    "sales.columns #as we can see, there is a column (the 5th one, which is unnamed; \" \" to be precise)\n",
    "print(\"Values in the void column:\")\n",
    "print(sales[\" \"].unique()) #by doing this we check the values in that column. As we can see the only output is [nan], \n",
    "#which means that there are only null values. So we can drop it.\n",
    "sales=sales.drop([\" \"],axis=1)\n",
    "sales.columns #now we have 4 columns. We can check the number by doing shape[1]\n"
   ]
  },
  {
   "cell_type": "code",
   "execution_count": 1692,
   "metadata": {},
   "outputs": [
    {
     "name": "stdout",
     "output_type": "stream",
     "text": [
      "market_id        1\n",
      "date             1\n",
      "is_open          1\n",
      "sales_amount    15\n",
      "dtype: int64\n"
     ]
    }
   ],
   "source": [
    "#2.\n",
    "#   check for null values\n",
    "print(sales.isnull().sum())\n",
    "sales=sales[[\"market_id\", \"date\", \"is_open\", \"sales_amount\"]].copy()"
   ]
  },
  {
   "cell_type": "code",
   "execution_count": 1693,
   "metadata": {},
   "outputs": [
    {
     "name": "stdout",
     "output_type": "stream",
     "text": [
      "market_id        object\n",
      "date             object\n",
      "is_open          object\n",
      "sales_amount    float64\n",
      "dtype: object\n"
     ]
    }
   ],
   "source": [
    "#   check the datatype. \"date\" should be converted to Date, as requested. The others will remain the same, because it is not asked to convert the type.\n",
    "# If we still want to do it, for instance if we want to convert into int or string, we can use astype(\" name of the datatype\").\n",
    "print(sales.dtypes)"
   ]
  },
  {
   "cell_type": "code",
   "execution_count": 1694,
   "metadata": {},
   "outputs": [
    {
     "name": "stdout",
     "output_type": "stream",
     "text": [
      "0    12\n",
      "Name: date, dtype: int32\n"
     ]
    },
    {
     "name": "stdout",
     "output_type": "stream",
     "text": [
      "min is 2021-01-01 00:00:00 and max is 2022-12-31 00:00:00\n"
     ]
    }
   ],
   "source": [
    "#   let's convert date of sales into a datetime, where the format will be DD/MM/YYYY, as given\n",
    "sales[\"date\"] = pd.to_datetime(sales[\"date\"], format=\"%d/%m/%Y\")\n",
    "#   just to be sure, let's make a test to check if it is actually written in the correct format\n",
    "print(sales[\"date\"].head(1).dt.month)\n",
    "\n",
    "#dates should range from 01/01/2021 to 31/12/2023\n",
    "minDate=min(sales[\"date\"])\n",
    "maxDate=max(sales[\"date\"])\n",
    "print(f\"min is {minDate} and max is {maxDate}\") #which is correct"
   ]
  },
  {
   "cell_type": "code",
   "execution_count": 1695,
   "metadata": {},
   "outputs": [
    {
     "name": "stdout",
     "output_type": "stream",
     "text": [
      "['YES' 'NO' 'YESS' nan]\n",
      "      market_id       date is_open  sales_amount\n",
      "49154      BT51 2022-10-14    YESS      25220.48\n",
      "['YES' 'NO' nan]\n",
      "       market_id date is_open  sales_amount\n",
      "477294       NaN  NaT     NaN           NaN\n",
      "['YES' 'NO']\n"
     ]
    }
   ],
   "source": [
    "# let's check is_open\n",
    "\n",
    "#   Let's check the values of is_open; they should be either YES or NO\n",
    "print(sales[\"is_open\"].unique()) #values should be only YES or NO\n",
    "#as we can see, values like YESS are most likely typos, so I am going to assume that they are actually YES. Let's change them\n",
    "print(sales[sales[\"is_open\"]==\"YESS\"]) #there is actually only one\n",
    "sales[\"is_open\"]=sales[\"is_open\"].replace(\"YESS\",\"YES\")\n",
    "print(sales[\"is_open\"].unique())\n",
    "\n",
    "print(sales[sales[\"is_open\"].isnull()]) #there is actually only one, the row doesn't say anything, so let's drop it.\n",
    "sales=sales.drop(sales[sales[\"is_open\"].isnull()].index)\n",
    "#Could have add values that are average or values that happen the most.\n",
    "print(sales[\"is_open\"].unique()) #Now we have only 2 values: YES or NO\n",
    "\n",
    "#There is also the condition of NO-->sales_amount=0, but we will check it later."
   ]
  },
  {
   "cell_type": "code",
   "execution_count": 1696,
   "metadata": {},
   "outputs": [
    {
     "name": "stdout",
     "output_type": "stream",
     "text": [
      "6\n",
      "      market_id       date is_open  sales_amount\n",
      "47528      XC14 2022-10-16     YES     -999999.0\n",
      "48150      XC14 2022-10-15     YES     -999999.0\n",
      "48772      XC14 2022-10-14     YES     -999999.0\n",
      "49394      XC14 2022-10-13     YES     -999999.0\n",
      "50016      XC14 2022-10-12     YES     -999999.0\n",
      "50638      XC14 2022-10-11     YES     -999999.0\n",
      "0\n",
      "    market_id       date is_open  sales_amount\n",
      "753      EE84 2022-12-30      NO     9999999.0\n",
      "Empty DataFrame\n",
      "Columns: [market_id, date, is_open, sales_amount]\n",
      "Index: []\n"
     ]
    }
   ],
   "source": [
    "#   Now, let's check the sales_amount\n",
    "\n",
    "#   First of all, data type is correct, it is requested a float value and we have, indeed, a float value.\n",
    "\n",
    "#   Now, let's check the condition >= 0\n",
    "print((sales[\"sales_amount\"]< 0).sum()) #there are 6 values that are < 0, let's see them.\n",
    "print(sales[sales[\"sales_amount\"]<0]) #they are all -999999, so there might have been an error with the registration of sales_amount.\n",
    "#   Instead of dropping them, let's replace them with the mean value.\n",
    "mean_age = sales['sales_amount'].mean()\n",
    "sales[\"sales_amount\"]=sales[\"sales_amount\"].replace(-999999,mean_age)\n",
    "print((sales[\"sales_amount\"]< 0).sum()) #now it is correct.\n",
    "#   Furthermore, if IS_OPEN=NO -->sales_amount has to be 0\n",
    "print(sales[(sales[\"is_open\"]==\"NO\") & (sales[\"sales_amount\"]>0)]) #There is one row, let's change the value of sales_amount to 0.\n",
    "sales[\"sales_amount\"]=sales[\"sales_amount\"].replace(9999999,0)\n",
    "print(sales[(sales[\"is_open\"]==\"NO\") & (sales[\"sales_amount\"]>0)]) #Let's check, just to see if it is correct."
   ]
  },
  {
   "cell_type": "code",
   "execution_count": 1697,
   "metadata": {},
   "outputs": [
    {
     "name": "stdout",
     "output_type": "stream",
     "text": [
      "     id country  Unnamed: 2 market_type  square_feet  avg_customers  \\\n",
      "0  XC14   SPAIN         NaN       HYPER        11135          773.0   \n",
      "1  WG25  FRANCE         NaN        MINI         1402          252.0   \n",
      "2  UX72  FRANCE         NaN        MINI         1452          265.0   \n",
      "3  EE84   SPAIN         NaN       HYPER        15259          874.0   \n",
      "4  RF54  FRANCE         NaN        MINI         2497          191.0   \n",
      "\n",
      "   competitor_distance has_promotions  \n",
      "0                  515            YES  \n",
      "1                  522            YES  \n",
      "2                15939            YES  \n",
      "3                  754            YES  \n",
      "4                34007            YES  \n",
      "Index(['id', 'country', 'Unnamed: 2', 'market_type', 'square_feet',\n",
      "       'avg_customers', 'competitor_distance', 'has_promotions'],\n",
      "      dtype='object')\n",
      "[nan]\n"
     ]
    },
    {
     "data": {
      "text/plain": [
       "Index(['market_id', 'date', 'is_open', 'sales_amount'], dtype='object')"
      ]
     },
     "execution_count": 1697,
     "metadata": {},
     "output_type": "execute_result"
    }
   ],
   "source": [
    "#Now, let's move to the market data.\n",
    "market=pd.read_csv(\"market.csv\")\n",
    "print(market.head(5)) #we noticed, again, an Unnamed column [\"Unnamed: 2\"]. Again, follow the same procedure of before.\n",
    "print(market.columns)\n",
    "print(market[\"Unnamed: 2\"].unique()) #again, only [nan] values\n",
    "market=market.drop([\"Unnamed: 2\"], axis=1)\n",
    "sales.columns #now we have 4 columns. We can check the number by doing shape[1]\n"
   ]
  },
  {
   "cell_type": "code",
   "execution_count": 1698,
   "metadata": {},
   "outputs": [
    {
     "name": "stdout",
     "output_type": "stream",
     "text": [
      "id                     0\n",
      "country                0\n",
      "market_type            2\n",
      "square_feet            0\n",
      "avg_customers          1\n",
      "competitor_distance    0\n",
      "has_promotions         0\n",
      "dtype: int64\n"
     ]
    }
   ],
   "source": [
    "#2.\n",
    "#   check for null values\n",
    "print(market.isnull().sum())\n",
    "market=market[[\"id\",\"country\",\"market_type\",\"square_feet\",\"avg_customers\",\"competitor_distance\",\"has_promotions\"]].copy()"
   ]
  },
  {
   "cell_type": "code",
   "execution_count": 1699,
   "metadata": {},
   "outputs": [
    {
     "data": {
      "text/plain": [
       "id                      object\n",
       "country                 object\n",
       "market_type             object\n",
       "square_feet              int64\n",
       "avg_customers          float64\n",
       "competitor_distance      int64\n",
       "has_promotions          object\n",
       "dtype: object"
      ]
     },
     "execution_count": 1699,
     "metadata": {},
     "output_type": "execute_result"
    }
   ],
   "source": [
    "market.dtypes #Let's check the datatypes. Again, we keep data as object because it is not requested to convert them. Anyway, if you still want to do it,\n",
    "#The function to use is astype()"
   ]
  },
  {
   "cell_type": "code",
   "execution_count": 1700,
   "metadata": {},
   "outputs": [
    {
     "name": "stdout",
     "output_type": "stream",
     "text": [
      "0\n"
     ]
    }
   ],
   "source": [
    "print(market[\"id\"].isnull().sum()) #there are not problematic values"
   ]
  },
  {
   "cell_type": "code",
   "execution_count": 1701,
   "metadata": {},
   "outputs": [
    {
     "name": "stdout",
     "output_type": "stream",
     "text": [
      "['SPAIN' 'FRANCE' 'ITALY']\n"
     ]
    }
   ],
   "source": [
    "print(market[\"country\"].unique()) # SPAIN, FRANCE, ITALY, that's what we want, there are no missing values, so we won't check."
   ]
  },
  {
   "cell_type": "code",
   "execution_count": 1702,
   "metadata": {},
   "outputs": [
    {
     "name": "stdout",
     "output_type": "stream",
     "text": [
      "['HYPER' 'MINI' 'SUPER' nan]\n",
      "2\n",
      "       id country market_type  square_feet  avg_customers  \\\n",
      "90   RU30   SPAIN         NaN        14305          637.0   \n",
      "225  KB10   ITALY         NaN         1520          150.0   \n",
      "\n",
      "     competitor_distance has_promotions  \n",
      "90                  1701            YES  \n",
      "225                  479            YES  \n",
      "['HYPER' 'MINI' 'SUPER']\n"
     ]
    }
   ],
   "source": [
    "#   check datatype in order to detect data that are of a type that is different from the given one\n",
    "print(market[\"market_type\"].unique()) #there is a \"nan\" value\n",
    "print(market[\"market_type\"].isnull().sum()) #they are actually two, let's find out which are the rows.\n",
    "print(market[market[\"market_type\"].isnull()]) #there are two values with nan values, instead of drop them, let's replace them with the value that appears the most.\n",
    "embarked_counts = market['market_type'].value_counts()\n",
    "mode_embarked = embarked_counts.idxmax()\n",
    "market['market_type'].fillna(mode_embarked, inplace=True)\n",
    "print(market[\"market_type\"].unique()) #Now that's correct"
   ]
  },
  {
   "cell_type": "code",
   "execution_count": 1703,
   "metadata": {},
   "outputs": [
    {
     "name": "stdout",
     "output_type": "stream",
     "text": [
      "0\n"
     ]
    }
   ],
   "source": [
    "print(market[\"square_feet\"].isnull().sum())# square_feet has no null values. Also, it is in the correct type, so we don't need to modify anything."
   ]
  },
  {
   "cell_type": "code",
   "execution_count": 1704,
   "metadata": {},
   "outputs": [
    {
     "name": "stdout",
     "output_type": "stream",
     "text": [
      "       id country market_type  square_feet  avg_customers  \\\n",
      "626  OD40   ITALY       HYPER        14157            NaN   \n",
      "\n",
      "     competitor_distance has_promotions  \n",
      "626                 3519            YES  \n",
      "0\n",
      "      id country market_type  square_feet  avg_customers  competitor_distance  \\\n",
      "69  IP89   SPAIN       HYPER        15560        -9999.0                 6281   \n",
      "\n",
      "   has_promotions  \n",
      "69            YES  \n",
      "Empty DataFrame\n",
      "Columns: [id, country, market_type, square_feet, avg_customers, competitor_distance, has_promotions]\n",
      "Index: []\n"
     ]
    }
   ],
   "source": [
    "#avg_customers actually has 1 null values, let's find out in which row.\n",
    "print(market[market[\"avg_customers\"].isnull()]) #this is the row. Let's drop it.\n",
    "mean_age2 = market[\"avg_customers\"].mean()\n",
    "market[\"avg_customers\"].fillna(mean_age2, inplace=True)\n",
    "print(market[\"avg_customers\"].isnull().sum()) #Now that's correct\n",
    "\n",
    "print(market[market[\"avg_customers\"]<0]) #there is one value that is <0, therefore that's not integer\n",
    "market[\"avg_customers\"]=market[\"avg_customers\"].replace(-9999,mean_age2)\n",
    "print(market[market[\"avg_customers\"]<0]) #Lets's check it, just to be sure."
   ]
  },
  {
   "cell_type": "code",
   "execution_count": 1705,
   "metadata": {},
   "outputs": [
    {
     "name": "stdout",
     "output_type": "stream",
     "text": [
      "Empty DataFrame\n",
      "Columns: [id, country, market_type, square_feet, avg_customers, competitor_distance, has_promotions]\n",
      "Index: []\n"
     ]
    }
   ],
   "source": [
    "#competitor_distance has no null value. Let's check <0 values\n",
    "print(market[market[\"competitor_distance\"]<0]) #no <0 values."
   ]
  },
  {
   "cell_type": "code",
   "execution_count": 1706,
   "metadata": {},
   "outputs": [
    {
     "name": "stdout",
     "output_type": "stream",
     "text": [
      "['YES' 'NO']\n"
     ]
    }
   ],
   "source": [
    "print(market[\"has_promotions\"].unique()) #YES and NO, they are the kind of data that we want, so we are not going to check for any missing value."
   ]
  },
  {
   "cell_type": "code",
   "execution_count": 1707,
   "metadata": {},
   "outputs": [
    {
     "name": "stdout",
     "output_type": "stream",
     "text": [
      "       market_id       date is_open  sales_amount\n",
      "0           XC14 2022-12-31     YES      55727.34\n",
      "1           WG25 2022-12-31     YES      12984.10\n",
      "2           UX72 2022-12-31     YES      13046.56\n",
      "3           EE84 2022-12-31     YES      60916.76\n",
      "4           RF54 2022-12-31     YES      12376.42\n",
      "...          ...        ...     ...           ...\n",
      "523944      ZM74 2021-01-01     YES      21553.84\n",
      "523945      WW60 2021-01-01     YES      56371.18\n",
      "523946      LU14 2021-01-01     YES      24107.19\n",
      "523947      HY57 2021-01-01     YES      12257.38\n",
      "523948      QD17 2021-01-01     YES      28068.53\n",
      "\n",
      "[523948 rows x 4 columns]\n"
     ]
    }
   ],
   "source": [
    "print(sales)"
   ]
  },
  {
   "cell_type": "code",
   "execution_count": 1708,
   "metadata": {},
   "outputs": [
    {
     "name": "stdout",
     "output_type": "stream",
     "text": [
      "       id country market_type  square_feet  avg_customers  \\\n",
      "0    XC14   SPAIN       HYPER        11135          773.0   \n",
      "1    WG25  FRANCE        MINI         1402          252.0   \n",
      "2    UX72  FRANCE        MINI         1452          265.0   \n",
      "3    EE84   SPAIN       HYPER        15259          874.0   \n",
      "4    RF54  FRANCE        MINI         2497          191.0   \n",
      "..    ...     ...         ...          ...            ...   \n",
      "745  ZM74   ITALY       SUPER         5778          356.0   \n",
      "746  WW60  FRANCE       HYPER        10923          907.0   \n",
      "747  LU14   ITALY       SUPER         5742          397.0   \n",
      "748  HY57   ITALY        MINI         2495          228.0   \n",
      "749  QD17  FRANCE       SUPER         6806          516.0   \n",
      "\n",
      "     competitor_distance has_promotions  \n",
      "0                    515            YES  \n",
      "1                    522            YES  \n",
      "2                  15939            YES  \n",
      "3                    754            YES  \n",
      "4                  34007            YES  \n",
      "..                   ...            ...  \n",
      "745                 4424            YES  \n",
      "746                41359            YES  \n",
      "747                 2841            YES  \n",
      "748                 3848            YES  \n",
      "749                10468            YES  \n",
      "\n",
      "[750 rows x 7 columns]\n"
     ]
    }
   ],
   "source": [
    "print(market)"
   ]
  },
  {
   "cell_type": "markdown",
   "metadata": {},
   "source": [
    "# Now, let's move on to our program by doing the first point.\n",
    "The target is sales_amount."
   ]
  },
  {
   "cell_type": "code",
   "execution_count": 1709,
   "metadata": {},
   "outputs": [
    {
     "name": "stdout",
     "output_type": "stream",
     "text": [
      "       market_id is_open  sales_amount\n",
      "0           XC14     YES      55727.34\n",
      "1           WG25     YES      12984.10\n",
      "2           UX72     YES      13046.56\n",
      "3           EE84     YES      60916.76\n",
      "4           RF54     YES      12376.42\n",
      "...          ...     ...           ...\n",
      "523944      ZM74     YES      21553.84\n",
      "523945      WW60     YES      56371.18\n",
      "523946      LU14     YES      24107.19\n",
      "523947      HY57     YES      12257.38\n",
      "523948      QD17     YES      28068.53\n",
      "\n",
      "[523948 rows x 3 columns]\n"
     ]
    }
   ],
   "source": [
    "#   First of all, let's start by collapsing the temporal data. We will work on sales cumulated in the horizontal line of 2 years.\n",
    "sales = sales.drop([\"date\"], axis=1)\n",
    "print(sales)    #New dataset without dates.\n"
   ]
  },
  {
   "cell_type": "code",
   "execution_count": 1710,
   "metadata": {},
   "outputs": [],
   "source": [
    "sales=sales.groupby([\"market_id\"])[\"sales_amount\"].sum() #We will group the sales by the market_id, so the sales_amount with the same id will be cumulated\n",
    "#into one sales_amount that will correspond to one id"
   ]
  },
  {
   "cell_type": "code",
   "execution_count": 1711,
   "metadata": {},
   "outputs": [
    {
     "name": "stdout",
     "output_type": "stream",
     "text": [
      "    market_id country market_type  square_feet  avg_customers  \\\n",
      "0        XC14   SPAIN       HYPER        11135          773.0   \n",
      "1        WG25  FRANCE        MINI         1402          252.0   \n",
      "2        UX72  FRANCE        MINI         1452          265.0   \n",
      "3        EE84   SPAIN       HYPER        15259          874.0   \n",
      "4        RF54  FRANCE        MINI         2497          191.0   \n",
      "..        ...     ...         ...          ...            ...   \n",
      "745      ZM74   ITALY       SUPER         5778          356.0   \n",
      "746      WW60  FRANCE       HYPER        10923          907.0   \n",
      "747      LU14   ITALY       SUPER         5742          397.0   \n",
      "748      HY57   ITALY        MINI         2495          228.0   \n",
      "749      QD17  FRANCE       SUPER         6806          516.0   \n",
      "\n",
      "     competitor_distance has_promotions  sales_amount  \n",
      "0                    515            YES  3.647356e+07  \n",
      "1                    522            YES  7.605641e+06  \n",
      "2                  15939            YES  7.446894e+06  \n",
      "3                    754            YES  3.807821e+07  \n",
      "4                  34007            YES  7.287603e+06  \n",
      "..                   ...            ...           ...  \n",
      "745                 4424            YES  1.429158e+07  \n",
      "746                41359            YES  3.717524e+07  \n",
      "747                 2841            YES  1.431729e+07  \n",
      "748                 3848            YES  6.896005e+06  \n",
      "749                10468            YES  1.179984e+07  \n",
      "\n",
      "[750 rows x 8 columns]\n"
     ]
    }
   ],
   "source": [
    "#   Now, let's merged sales and market. \n",
    "market=market.rename(columns={\"id\":\"market_id\"})\n",
    "merged_df= pd.merge(market,sales,on=\"market_id\",how=\"left\")\n",
    "print(merged_df)"
   ]
  },
  {
   "cell_type": "code",
   "execution_count": 1712,
   "metadata": {},
   "outputs": [
    {
     "name": "stdout",
     "output_type": "stream",
     "text": [
      "market_id              0\n",
      "country                0\n",
      "market_type            0\n",
      "square_feet            0\n",
      "avg_customers          0\n",
      "competitor_distance    0\n",
      "has_promotions         0\n",
      "sales_amount           0\n",
      "dtype: int64\n"
     ]
    }
   ],
   "source": [
    "print(merged_df.isnull().sum()) #   we don't have null data, as a consequence, from this point of view, we can't exclude any values.\n",
    "#   In any case, market_id won't be used as a predictor because it is just an identifier and doesn't really tell anything about sales_amount.\n"
   ]
  },
  {
   "cell_type": "markdown",
   "metadata": {},
   "source": [
    "Before coding, let's talk about our possible predictors, in order to check if there might be a logical relation between them and the target (sales_amount).\n",
    "- country: The country might be relevant in order to see where to open in order to maximize the sales, so a country might give more sales than another because, maybe, the product better fits the needs of the people of that particular country.\n",
    "- market_type: Also market_type, we want to see if a SUPER or a MINI makes more or less sales. Maybe some of them might make more sales the other, so, knowing how much might change the sales_amount by varying it, might be useful.\n",
    "- square_feet: Seeing if the area of the market is relevant and how much (for instance,if i increase of 1 meter, how much will my sales increase?), i suppose that as square_feet increases, also sales_amount will increase.\n",
    "- avg_customers: How much customers we have daily can really have an impact (more customers-->more sales in general, but we want to know also the magnitude of it).\n",
    "- competitor_distance: It can have a huge impact, competitors steal customers, so the sales will decrease (might have a negative coefficient: as competitors are more distant, the less the sales. Or maybe not, for instance, more competitors might also mean a center with a lot of shops, so it increases the sales).\n",
    "- has_promotions: If the market has promotions or not might be useful to discover its impact on sales, in order to decide how much we should promote to maximize the sales. I suppose it has a positive relation, the more you promote, the higher will be the sales."
   ]
  },
  {
   "cell_type": "code",
   "execution_count": 1713,
   "metadata": {},
   "outputs": [
    {
     "data": {
      "image/png": "[encoded data removed]",
      "text/plain": [
       "<Figure size 2000x2000 with 6 Axes>"
      ]
     },
     "metadata": {},
     "output_type": "display_data"
    }
   ],
   "source": [
    "import matplotlib.pyplot as plt\n",
    "import seaborn as sns\n",
    "\n",
    "interesting_columns = [\"country\", \"market_type\", \"square_feet\", \"avg_customers\", \"competitor_distance\", \"has_promotions\"]\n",
    "#let's scatterplot the point\n",
    "\n",
    "fig, ax = plt.subplots(ncols=2, nrows=3, figsize=(20, 20))\n",
    "index = 0\n",
    "ax = ax.flatten()\n",
    "for col in interesting_columns:\n",
    "    sns.scatterplot(x=col, y=\"sales_amount\", data=merged_df, ax=ax[index])\n",
    "    index += 1"
   ]
  },
  {
   "cell_type": "code",
   "execution_count": 1714,
   "metadata": {},
   "outputs": [
    {
     "data": {
      "text/html": [
       "<div>\n",
       "<style scoped>\n",
       "    .dataframe tbody tr th:only-of-type {\n",
       "        vertical-align: middle;\n",
       "    }\n",
       "\n",
       "    .dataframe tbody tr th {\n",
       "        vertical-align: top;\n",
       "    }\n",
       "\n",
       "    .dataframe thead th {\n",
       "        text-align: right;\n",
       "    }\n",
       "</style>\n",
       "<table border=\"1\" class=\"dataframe\">\n",
       "  <thead>\n",
       "    <tr style=\"text-align: right;\">\n",
       "      <th></th>\n",
       "      <th>square_feet</th>\n",
       "      <th>avg_customers</th>\n",
       "      <th>competitor_distance</th>\n",
       "      <th>sales_amount</th>\n",
       "    </tr>\n",
       "  </thead>\n",
       "  <tbody>\n",
       "    <tr>\n",
       "      <th>count</th>\n",
       "      <td>750.000000</td>\n",
       "      <td>750.000000</td>\n",
       "      <td>750.000000</td>\n",
       "      <td>7.500000e+02</td>\n",
       "    </tr>\n",
       "    <tr>\n",
       "      <th>mean</th>\n",
       "      <td>4596.989333</td>\n",
       "      <td>337.043414</td>\n",
       "      <td>5485.224000</td>\n",
       "      <td>1.294361e+07</td>\n",
       "    </tr>\n",
       "    <tr>\n",
       "      <th>std</th>\n",
       "      <td>3495.020978</td>\n",
       "      <td>180.851646</td>\n",
       "      <td>8223.619175</td>\n",
       "      <td>9.134337e+06</td>\n",
       "    </tr>\n",
       "    <tr>\n",
       "      <th>min</th>\n",
       "      <td>1400.000000</td>\n",
       "      <td>148.000000</td>\n",
       "      <td>0.000000</td>\n",
       "      <td>4.935078e+06</td>\n",
       "    </tr>\n",
       "    <tr>\n",
       "      <th>25%</th>\n",
       "      <td>1974.250000</td>\n",
       "      <td>204.000000</td>\n",
       "      <td>773.000000</td>\n",
       "      <td>7.236034e+06</td>\n",
       "    </tr>\n",
       "    <tr>\n",
       "      <th>50%</th>\n",
       "      <td>2513.500000</td>\n",
       "      <td>264.000000</td>\n",
       "      <td>2348.000000</td>\n",
       "      <td>7.640360e+06</td>\n",
       "    </tr>\n",
       "    <tr>\n",
       "      <th>75%</th>\n",
       "      <td>6438.750000</td>\n",
       "      <td>432.000000</td>\n",
       "      <td>6807.750000</td>\n",
       "      <td>1.537533e+07</td>\n",
       "    </tr>\n",
       "    <tr>\n",
       "      <th>max</th>\n",
       "      <td>15560.000000</td>\n",
       "      <td>915.000000</td>\n",
       "      <td>90659.000000</td>\n",
       "      <td>3.955870e+07</td>\n",
       "    </tr>\n",
       "  </tbody>\n",
       "</table>\n",
       "</div>"
      ],
      "text/plain": [
       "        square_feet  avg_customers  competitor_distance  sales_amount\n",
       "count    750.000000     750.000000           750.000000  7.500000e+02\n",
       "mean    4596.989333     337.043414          5485.224000  1.294361e+07\n",
       "std     3495.020978     180.851646          8223.619175  9.134337e+06\n",
       "min     1400.000000     148.000000             0.000000  4.935078e+06\n",
       "25%     1974.250000     204.000000           773.000000  7.236034e+06\n",
       "50%     2513.500000     264.000000          2348.000000  7.640360e+06\n",
       "75%     6438.750000     432.000000          6807.750000  1.537533e+07\n",
       "max    15560.000000     915.000000         90659.000000  3.955870e+07"
      ]
     },
     "execution_count": 1714,
     "metadata": {},
     "output_type": "execute_result"
    }
   ],
   "source": [
    "#   First of all. Let's summarize our data, just to get a general picture of our data.\n",
    "merged_df.describe()\n",
    "#   We have sales_amount, which will be our target (the number that we want to maximize) and other 3 predictors. \n",
    "#   They are only because in this moment we are talking about quantitative predictors, as a consequence Qualitative ones will be modelled then."
   ]
  },
  {
   "cell_type": "code",
   "execution_count": 1715,
   "metadata": {},
   "outputs": [
    {
     "data": {
      "image/png": "[encoded data removed]",
      "text/plain": [
       "<Figure size 700x700 with 4 Axes>"
      ]
     },
     "metadata": {},
     "output_type": "display_data"
    }
   ],
   "source": [
    "#   To better visualize it, let's see a boxplot\n",
    "#Before seeing the box plot, let's select the 4 quantitative variables (3 predictors + 1 target)\n",
    "merged_quant=merged_df[[\"square_feet\",\"avg_customers\",\"competitor_distance\",\"sales_amount\"]].copy()\n",
    "import seaborn as sns\n",
    "import matplotlib.pyplot as plt\n",
    "fig, ax = plt.subplots(ncols=2, nrows=2, figsize=(7, 7))\n",
    "index = 0\n",
    "ax = ax.flatten()\n",
    "for k, v in merged_quant.items():\n",
    "    sns.boxplot(y=k, data=merged_quant, ax=ax[index])\n",
    "    index +=1\n",
    "plt.tight_layout()"
   ]
  },
  {
   "cell_type": "code",
   "execution_count": 1716,
   "metadata": {},
   "outputs": [
    {
     "name": "stdout",
     "output_type": "stream",
     "text": [
      "The column square_feet has 4.27% outliers\n",
      "The column avg_customers has 5.2% outliers\n",
      "The column competitor_distance has 8.8% outliers\n",
      "The column sales_amount has 11.73% outliers\n"
     ]
    }
   ],
   "source": [
    "#   From this picture we can't really say a lot, because the number of rows that we have is quite huge.\n",
    "#   Let's just say that there are outliers, but to have a better view, we should quantify it.\n",
    "#   Why? Because, as i have already said, the number of rows is is quite high and having some outliers is normal.\n",
    "for k, v in merged_quant.items():\n",
    "    q1 = v.quantile(0.25)\n",
    "    q3 = v.quantile(0.75)\n",
    "    iqr = q3-q1\n",
    "    outliers_v = v[(v <= q1 - 1.5*iqr) | (v >= q3 + 1.5*iqr)]\n",
    "    print(f\"The column {k} has {round(len(outliers_v)/len(v) * 100, 2)}% outliers\")"
   ]
  },
  {
   "cell_type": "code",
   "execution_count": 1717,
   "metadata": {},
   "outputs": [],
   "source": [
    "#   Now that we have talked about quantitative variables, let's move to the qualitative ones.\n",
    "#   When we apply linear regression method, if we do it with qualitative ones will create some problems (EXPLAIN BETTER)\n",
    "#   As a consequence, let's encode them as number. Our column of interests will be country, market_type and has_promotions (the string ones, market_id is just an identifier)\n",
    "merged_df[\"country\"] = merged_df[\"country\"].map({\"SPAIN\": 0, \"FRANCE\": 1, \"ITALY\": 2})\n",
    "merged_df[\"market_type\"] = merged_df[\"market_type\"].map({\"MINI\": 0, \"SUPER\": 1, \"HYPER\": 2})\n",
    "merged_df[\"has_promotions\"] = merged_df[\"has_promotions\"].map({\"YES\": 0, \"NO\": 1})"
   ]
  },
  {
   "cell_type": "code",
   "execution_count": 1718,
   "metadata": {},
   "outputs": [
    {
     "name": "stdout",
     "output_type": "stream",
     "text": [
      "[0 1 2]\n",
      "[2 0 1]\n",
      "[0 1]\n"
     ]
    }
   ],
   "source": [
    "#   Just to be sure, let's check that everything is okay. The output should be made only of numbers.\n",
    "print(merged_df[\"country\"].unique())\n",
    "print(merged_df[\"market_type\"].unique())\n",
    "print(merged_df[\"has_promotions\"].unique())\n"
   ]
  },
  {
   "cell_type": "code",
   "execution_count": 1719,
   "metadata": {},
   "outputs": [
    {
     "data": {
      "image/png": "[encoded data removed]",
      "text/plain": [
       "<Figure size 700x700 with 6 Axes>"
      ]
     },
     "metadata": {},
     "output_type": "display_data"
    }
   ],
   "source": [
    "merged_qual=merged_df[[\"country\",\"market_type\",\"has_promotions\"]].copy()\n",
    "fig, ax = plt.subplots(ncols=2, nrows=3, figsize=(7, 7))\n",
    "index = 0\n",
    "ax = ax.flatten()\n",
    "for k, v in merged_qual.items():\n",
    "    sns.boxplot(y=k, data=merged_qual, ax=ax[index])\n",
    "    index +=1\n",
    "plt.tight_layout()"
   ]
  },
  {
   "cell_type": "code",
   "execution_count": 1720,
   "metadata": {},
   "outputs": [
    {
     "name": "stdout",
     "output_type": "stream",
     "text": [
      "The column country has 0.0% outliers\n",
      "The column market_type has 0.0% outliers\n",
      "The column has_promotions has 100.0% outliers\n"
     ]
    }
   ],
   "source": [
    "#   From this picture we can't really say a lot, because the number of rows that we have is quite huge.\n",
    "#   Let's just say that there are outliers, but to have a better view, we should quantify it.\n",
    "#   Why? Because, as i have already said, the number of rows is is quite high and having some outliers is normal.\n",
    "#   It is more useful with quantitative, but let's do it\n",
    "for k, v in merged_qual.items():\n",
    "    q1 = v.quantile(0.25)\n",
    "    q3 = v.quantile(0.75)\n",
    "    iqr = q3-q1\n",
    "    outliers_v = v[(v <= q1 - 1.5*iqr) | (v >= q3 + 1.5*iqr)]\n",
    "    print(f\"The column {k} has {round(len(outliers_v)/len(v) * 100, 2)}% outliers\")"
   ]
  },
  {
   "cell_type": "markdown",
   "metadata": {},
   "source": [
    "Now, let's perform a linear regression, we are going to assume a linear relationship between our predictors and our target.\n",
    "By looking at our target, we can see that it is a float variable (quantitative, not qualitative), therefore we can apply a linear regression.\n",
    "Otherwise, if our target would have been Qualitative (country for example), after performing categorization of those variables, we would have performed a logistic regression. "
   ]
  },
  {
   "cell_type": "code",
   "execution_count": 1721,
   "metadata": {},
   "outputs": [],
   "source": [
    "import statsmodels.api as sm\n",
    "from sklearn.model_selection import train_test_split"
   ]
  },
  {
   "cell_type": "code",
   "execution_count": 1722,
   "metadata": {},
   "outputs": [],
   "source": [
    "X=merged_df[[\"square_feet\",\"avg_customers\",\"competitor_distance\",\"country\",\"market_type\",\"has_promotions\"]]\n",
    "y=merged_df[\"sales_amount\"]"
   ]
  },
  {
   "cell_type": "markdown",
   "metadata": {},
   "source": [
    "Before going on, we notice that X is made of multiple predictors. When we deal with linear regression we need to choose which kind of linear regression we want to perform:\n",
    "- Simple linear regression\n",
    "- Multiple linear regression\n",
    "\n",
    "Anyway, Multiple linear regression works better than Simple linear regression when we deal with multiple coefficients. Let's start by performing a Multiple linear regression."
   ]
  },
  {
   "cell_type": "code",
   "execution_count": 1723,
   "metadata": {},
   "outputs": [],
   "source": [
    "# split between X_train, X_test, y_train, y_test\n",
    "X_train, X_test, y_train, y_test = train_test_split(X, y, test_size=0.2, random_state=999)\n",
    "\n",
    "# Add a constant for the intercept to both training and test data\n",
    "X_train_with_intercept = sm.add_constant(X_train)\n",
    "X_test_with_intercept = sm.add_constant(X_test)\n",
    "\n",
    "# Fit the linear regression model\n",
    "model = sm.OLS(y_train, X_train_with_intercept).fit()"
   ]
  },
  {
   "cell_type": "code",
   "execution_count": 1724,
   "metadata": {},
   "outputs": [
    {
     "name": "stdout",
     "output_type": "stream",
     "text": [
      "const                  1.823777e+06\n",
      "square_feet            9.615477e+02\n",
      "avg_customers          1.357350e+04\n",
      "competitor_distance   -2.378187e+01\n",
      "country               -1.580939e+05\n",
      "market_type            4.040580e+06\n",
      "has_promotions         4.338046e+05\n",
      "dtype: float64\n"
     ]
    }
   ],
   "source": [
    "# coefficient estimates \n",
    "coefficients = model.params\n",
    "print(coefficients)"
   ]
  },
  {
   "cell_type": "markdown",
   "metadata": {},
   "source": [
    "This is a linear regression applied to all our predictors. So, as we can see that an increase of 1 in one of those predictors leads to an increase of *coefficients* to our target (sales_amount).\n",
    "By the way, are all those predictors useful? Let's make some feature selection, in order to discover if we can actually cut out some of them. This can lead to a more simple, but still as descriptive as the former one ( so, more powerful). If we actually need to reduce the number of our predictors, also the coefficients will change. So, the results that we have found are helpful, but not still definitive.\n",
    "- const                  1.823777e+06\n",
    "- square_feet            9.615477e+02\n",
    "- avg_customers          1.357350e+04\n",
    "- competitor_distance   -2.378187e+01\n",
    "- country               -1.580939e+05\n",
    "- market_type            4.040580e+06\n",
    "- has_promotions         4.338046e+05\n",
    "\n",
    "So, for instance, one increase in avg_customers will lead to an increase on sales_amount of 1.357350e+04; on the other hand, an increase of 1 on competitor_distance, will lead to a decrease of-2.378187e+01. \"consts\" is B_0, so, if all the others are 0, sales_amount will be equal to 1.823777e+06.\n",
    "\n",
    "Before doing model selection, let's conclude our linear regression."
   ]
  },
  {
   "cell_type": "code",
   "execution_count": 1725,
   "metadata": {},
   "outputs": [],
   "source": [
    "def calculate_metrics(y_validation, y_pred, X):\n",
    "    residuals = y_validation - y_pred\n",
    "    RSE = (sum(residuals ** 2) / (len(residuals) - X.shape[1] - 1)) ** 0.5\n",
    "    R2 = 1 - (residuals ** 2).sum() / ((y_validation - y_validation.mean()) ** 2).sum()\n",
    "    MSE = (residuals ** 2).mean()\n",
    "    return RSE, R2, MSE\n",
    "\n",
    "#   This is just a function to calculate our metrics: RSE, R^2, MSE"
   ]
  },
  {
   "cell_type": "markdown",
   "metadata": {},
   "source": [
    "- RSE: measures the average deviation of the observed values from the predicted values by the regression model\n",
    "- R^2: from 0 to 1; the higher, the better. Proportion of the variance in the dependent variable that is predictable from the independent variables\n",
    "- MSE: we would like to select the model for which the test MSE is as small as possible (the test MSE can be computed through cross validation, whereas training MSE is easier to get)\n",
    "\n",
    "They will help us understanding how well our model fits the data and how they accurately predict."
   ]
  },
  {
   "cell_type": "code",
   "execution_count": 1726,
   "metadata": {},
   "outputs": [
    {
     "name": "stdout",
     "output_type": "stream",
     "text": [
      "The RSE is 3151552.79, the R2 is 0.92 and the MSE is 9468778376500.49\n"
     ]
    }
   ],
   "source": [
    "# model accuracy\n",
    "\n",
    "y_pred = model.predict(X_test_with_intercept)\n",
    "\n",
    "# RSE\n",
    "residuals = y_pred - y_test\n",
    "RSE = (sum(residuals ** 2) / (len(residuals) - X.shape[1] - 1)) ** 0.5\n",
    "\n",
    "# R2\n",
    "R2 = 1 - ((y_test - y_pred) ** 2).sum() / ((y_test - y_test.mean()) ** 2).sum()\n",
    "\n",
    "# MSE\n",
    "MSE = ((y_test - y_pred) ** 2).mean()\n",
    "\n",
    "print(f\"The RSE is {round(RSE, 2)}, the R2 is {round(R2, 2)} and the MSE is {round(MSE, 2)}\")"
   ]
  },
  {
   "cell_type": "markdown",
   "metadata": {},
   "source": [
    "OUTPUT: \n",
    "- The RSE is 3151552.79, \n",
    "- The R2 is 0.92,\n",
    "- The MSE is 9468778376500.49"
   ]
  },
  {
   "cell_type": "code",
   "execution_count": 1727,
   "metadata": {},
   "outputs": [
    {
     "data": {
      "text/html": [
       "<div>\n",
       "<style scoped>\n",
       "    .dataframe tbody tr th:only-of-type {\n",
       "        vertical-align: middle;\n",
       "    }\n",
       "\n",
       "    .dataframe tbody tr th {\n",
       "        vertical-align: top;\n",
       "    }\n",
       "\n",
       "    .dataframe thead th {\n",
       "        text-align: right;\n",
       "    }\n",
       "</style>\n",
       "<table border=\"1\" class=\"dataframe\">\n",
       "  <thead>\n",
       "    <tr style=\"text-align: right;\">\n",
       "      <th></th>\n",
       "      <th>VIF Factor</th>\n",
       "      <th>Feature</th>\n",
       "    </tr>\n",
       "  </thead>\n",
       "  <tbody>\n",
       "    <tr>\n",
       "      <th>0</th>\n",
       "      <td>25.690802</td>\n",
       "      <td>square_feet</td>\n",
       "    </tr>\n",
       "    <tr>\n",
       "      <th>1</th>\n",
       "      <td>14.430745</td>\n",
       "      <td>avg_customers</td>\n",
       "    </tr>\n",
       "    <tr>\n",
       "      <th>2</th>\n",
       "      <td>1.383094</td>\n",
       "      <td>competitor_distance</td>\n",
       "    </tr>\n",
       "    <tr>\n",
       "      <th>3</th>\n",
       "      <td>2.650869</td>\n",
       "      <td>country</td>\n",
       "    </tr>\n",
       "    <tr>\n",
       "      <th>4</th>\n",
       "      <td>13.628929</td>\n",
       "      <td>market_type</td>\n",
       "    </tr>\n",
       "    <tr>\n",
       "      <th>5</th>\n",
       "      <td>1.012276</td>\n",
       "      <td>has_promotions</td>\n",
       "    </tr>\n",
       "  </tbody>\n",
       "</table>\n",
       "</div>"
      ],
      "text/plain": [
       "   VIF Factor              Feature\n",
       "0   25.690802          square_feet\n",
       "1   14.430745        avg_customers\n",
       "2    1.383094  competitor_distance\n",
       "3    2.650869              country\n",
       "4   13.628929          market_type\n",
       "5    1.012276       has_promotions"
      ]
     },
     "execution_count": 1727,
     "metadata": {},
     "output_type": "execute_result"
    }
   ],
   "source": [
    "from statsmodels.stats.outliers_influence import variance_inflation_factor\n",
    "\n",
    "vif = pd.DataFrame()\n",
    "vif[\"VIF Factor\"] = [variance_inflation_factor(X_train.values, i) for i in range(X_train.shape[1])]\n",
    "vif[\"Feature\"] = X_train.columns\n",
    "vif"
   ]
  },
  {
   "cell_type": "markdown",
   "metadata": {},
   "source": [
    "There is some correlation (some of them are higher than 1), so that some variables might be removed or merged into one. It might be the case or not, anyway, let's see."
   ]
  },
  {
   "cell_type": "markdown",
   "metadata": {},
   "source": [
    "**Feature selection.**\n",
    "\n",
    "Are all the predictors useful? Having a lot of predictors might be useful, but could lead to a more complex and redundant model, that will be overfitted.\\\n",
    "As a consequence, Feature selection helps finding the most important predictors, in order to eliminate the ones that don't carry so much information. This will lead to a more simple model that will perform better."
   ]
  },
  {
   "cell_type": "code",
   "execution_count": 1728,
   "metadata": {},
   "outputs": [
    {
     "name": "stdout",
     "output_type": "stream",
     "text": [
      "start iteration 1 of 6\n",
      "start iteration 2 of 6\n",
      "start iteration 3 of 6\n"
     ]
    },
    {
     "name": "stdout",
     "output_type": "stream",
     "text": [
      "start iteration 4 of 6\n",
      "start iteration 5 of 6\n",
      "start iteration 6 of 6\n",
      "-------------------\n",
      "Finished!\n",
      "Features with best model: ['square_feet', 'avg_customers', 'competitor_distance', 'market_type', 'has_promotions']\n",
      "RSE: 2831373.082830221\n",
      "R2: 0.8688794352592979\n",
      "MSE: 9484989328712.307\n"
     ]
    }
   ],
   "source": [
    "\n",
    "import itertools\n",
    "import statsmodels.api as sm\n",
    "from sklearn.model_selection import KFold\n",
    "\n",
    "# Step 1: initialize KFold object to use for model evaluation\n",
    "number_folds = 4\n",
    "kf = KFold(n_splits=number_folds, shuffle=True, random_state=999)\n",
    "\n",
    "# Step 4: Implement best subset selection\n",
    "def best_subset_selection(X, y, target_col):\n",
    "    n_features = X.shape[1]\n",
    "    all_models = []\n",
    "    best_models = []\n",
    "    best_metrics = {\n",
    "        \"RSE\": float(\"inf\"),\n",
    "        \"R2\": -float(\"inf\"),\n",
    "        \"MSE\": float(\"inf\"),\n",
    "    }\n",
    "\n",
    "    # for each number of features\n",
    "    for k in range(1, n_features + 1):\n",
    "        print(f\"start iteration {k} of {n_features}\")\n",
    "        # for each combination of k number of features\n",
    "        for combo in itertools.combinations(X.columns, k):\n",
    "            model_features = list(combo)\n",
    "            X_subset = X[model_features]\n",
    "            # Add a constant for the intercept term\n",
    "            X_subset = sm.add_constant(X_subset)  \n",
    "            # initialize empty array to store mse for each fold\n",
    "            mse_folds = []\n",
    "            # for each fold fit the model\n",
    "            for train_idx, validation_idx in kf.split(X_subset):\n",
    "                X_train, X_validation = X_subset.iloc[train_idx], X_subset.iloc[validation_idx]\n",
    "                y_train, y_validation = y.iloc[train_idx], y.iloc[validation_idx]\n",
    "                model = sm.OLS(y_train, X_train).fit()\n",
    "                y_pred = model.predict(X_validation)\n",
    "                RSE, R2, MSE = calculate_metrics(y_validation, y_pred, X[model_features])\n",
    "                mse_folds.append(MSE)\n",
    "            # estimate test error using the mean of MSE in all folds\n",
    "            test_error_estimated = sum(mse_folds) / len(mse_folds)\n",
    "            # if the estimation of the test error is reduced, save metrics and model\n",
    "            if test_error_estimated < best_metrics[\"MSE\"]:\n",
    "                best_metrics[\"RSE\"] = RSE\n",
    "                best_metrics[\"R2\"] = R2\n",
    "                best_metrics[\"MSE\"] = test_error_estimated\n",
    "                best_models = model_features\n",
    "            # save number of features and estimated test error for plotting\n",
    "            all_models.append([len(list(combo)), test_error_estimated])\n",
    "\n",
    "    return best_models, best_metrics, all_models\n",
    "\n",
    "# Step 5: Calculate and display statistics for each model\n",
    "best_features, best_metrics, all_models = best_subset_selection(X, y, 'sales_amount')\n",
    "\n",
    "print(\"-------------------\")\n",
    "print(\"Finished!\")\n",
    "print(\"Features with best model:\", best_features)\n",
    "print(\"RSE:\", best_metrics[\"RSE\"])\n",
    "print(\"R2:\", best_metrics[\"R2\"])\n",
    "print(\"MSE:\", best_metrics[\"MSE\"])"
   ]
  },
  {
   "cell_type": "markdown",
   "metadata": {},
   "source": [
    "OUTPUT:\n",
    "- RSE: 2831373.082830221\n",
    "- R2:  0.8688794352592979\n",
    "- MSE: 9484989328712.307 > 9468778376500.49 .\n",
    "\n",
    "Sometimes, MSE might be higher because, indeed, the previous model underestimated the Test error. Anyway, it can also be smaller. By doing this procedure we eliminate (or reduce) the amount of luck in the choice. By doing this we split our dataset into 4 (K should be, but in this case is 4), is trained in 3 of them and validated on the remaining one."
   ]
  },
  {
   "cell_type": "code",
   "execution_count": 1729,
   "metadata": {},
   "outputs": [
    {
     "data": {
      "text/plain": [
       "<matplotlib.collections.PathCollection at 0x19a91685870>"
      ]
     },
     "execution_count": 1729,
     "metadata": {},
     "output_type": "execute_result"
    },
    {
     "data": {
      "image/png": "[encoded data removed]",
      "text/plain": [
       "<Figure size 640x480 with 1 Axes>"
      ]
     },
     "metadata": {},
     "output_type": "display_data"
    }
   ],
   "source": [
    "import matplotlib.pyplot as plt\n",
    "\n",
    "fig, ax = plt.subplots(ncols=1, nrows=1)\n",
    "plt.scatter([elem[0] for elem in all_models], [elem[1] for elem in all_models])"
   ]
  },
  {
   "cell_type": "markdown",
   "metadata": {},
   "source": [
    "If we want to make predictions, k high such as at least 4 or 5 will lead to a better result because data that are plugged in into the folds are more diversified. On the other hand, if we want to make inference, it is better a k small because provides more data in each fold."
   ]
  },
  {
   "cell_type": "markdown",
   "metadata": {},
   "source": [
    "Let's apply to see our result to see if we can make an improvement by taking the linear combinations.\n",
    "Let's start by stantardize our data."
   ]
  },
  {
   "cell_type": "code",
   "execution_count": 1730,
   "metadata": {},
   "outputs": [
    {
     "name": "stdout",
     "output_type": "stream",
     "text": [
      "The column square_feet has mean 0.0 and variance 1.0\n",
      "The column avg_customers has mean -0.0 and variance 1.0\n",
      "The column competitor_distance has mean -0.0 and variance 1.0\n",
      "The column market_type has mean -0.0 and variance 1.0\n",
      "The column has_promotions has mean -0.0 and variance 1.0\n"
     ]
    }
   ],
   "source": [
    "from sklearn.linear_model import Ridge\n",
    "from sklearn.preprocessing import StandardScaler\n",
    "import numpy as np\n",
    "\n",
    "# filter data based on best_features\n",
    "best_features=['square_feet', 'avg_customers', 'competitor_distance', 'market_type', 'has_promotions']\n",
    "X_subset = X[best_features]\n",
    "\n",
    "# Standardize features by removing the mean and scaling to unit variance\n",
    "scaler = StandardScaler()\n",
    "X_scaled = scaler.fit_transform(X_subset)\n",
    "X_scaled = pd.DataFrame(X_scaled, columns=X_subset.columns)\n",
    "# check if features have been standardized\n",
    "for col in X_scaled.columns:\n",
    "    print(f\"The column {col} has mean {round(X_scaled[col].mean(), 2)} and variance {round(X_scaled[col].var(), 2)}\")"
   ]
  },
  {
   "cell_type": "markdown",
   "metadata": {},
   "source": [
    "**Ridge Regression**\n",
    "\n",
    "With Ridge Regression we are going to apply a penalty term, which is made of:\n",
    "- a tuning parameter (lambda),as lambda increases, also the flexibility of the ridge regression decreases (variance goes down but bias goes up)\n",
    "- squared coefficients,"
   ]
  },
  {
   "cell_type": "code",
   "execution_count": 1731,
   "metadata": {},
   "outputs": [
    {
     "data": {
      "text/plain": [
       "Text(0, 9485937827645.178, 'Best OLS estimation')"
      ]
     },
     "execution_count": 1731,
     "metadata": {},
     "output_type": "execute_result"
    },
    {
     "data": {
      "image/png": "[encoded data removed]",
      "text/plain": [
       "<Figure size 640x480 with 1 Axes>"
      ]
     },
     "metadata": {},
     "output_type": "display_data"
    }
   ],
   "source": [
    "# save test error and lambda values\n",
    "results_ridge = []\n",
    "best_lmbd_ridge = {\"MSE\": float(\"inf\"), \"lmbd\": float(\"inf\")}\n",
    "\n",
    "# iterate over different values of lambda\n",
    "for lmbd in np.linspace(0.0001, 20, 100):\n",
    "    # initialize empty array to store mse for each fold\n",
    "    mse_folds = []\n",
    "    # for each fold fit the model\n",
    "    for train_idx, validation_idx in kf.split(X_scaled):\n",
    "        X_train, X_validation = X_scaled.iloc[train_idx], X_scaled.iloc[validation_idx]\n",
    "        y_train, y_validation = y.iloc[train_idx], y.iloc[validation_idx]\n",
    "        model = Ridge(alpha=lmbd).fit(X_train, y_train)\n",
    "        y_pred = model.predict(X_validation)\n",
    "        RSE, R2, MSE = calculate_metrics(y_validation, y_pred, X_subset)\n",
    "        mse_folds.append(MSE)\n",
    "    # estimate test error using the mean of MSE in all folds\n",
    "    test_error_estimated = sum(mse_folds) / len(mse_folds)\n",
    "    # append\n",
    "    results_ridge.append([test_error_estimated, lmbd])\n",
    "    # check if model improved\n",
    "    if test_error_estimated < best_lmbd_ridge[\"MSE\"]:\n",
    "        best_lmbd_ridge[\"MSE\"] = test_error_estimated\n",
    "        best_lmbd_ridge[\"lmbd\"] = lmbd\n",
    "\n",
    "# plot estimated test MSE for each value of lambda\n",
    "fig, ax = plt.subplots(ncols=1, nrows=1)\n",
    "plt.plot([elem[1] for elem in results_ridge], [elem[0] for elem in results_ridge])\n",
    "plt.xlabel(\"Lambda\")\n",
    "plt.ylabel(\"Estimated test error MSE\")\n",
    "plt.axhline(best_metrics[\"MSE\"], color=\"red\")\n",
    "plt.text(0, best_metrics[\"MSE\"] * 1.0001, \"Best OLS estimation\", color=\"red\") # * 1.0001 is used to place the text a bit above best_metrics[\"MSE\"]"
   ]
  },
  {
   "cell_type": "code",
   "execution_count": 1732,
   "metadata": {},
   "outputs": [
    {
     "name": "stdout",
     "output_type": "stream",
     "text": [
      "Using OLS, the best model has an estimated test MSE of 9484989328712.31\n",
      "Using Ridge, the best model has an estimated test MSE of 9466943737953.09 using a value of lambda = 13.94\n"
     ]
    }
   ],
   "source": [
    "# compare min using Ridge and OLS\n",
    "min_ridge_test_error_estimated = min([elem[0] for elem in results_ridge])\n",
    "\n",
    "print(f\"Using OLS, the best model has an estimated test MSE of {round(best_metrics['MSE'], 2)}\")\n",
    "print(f\"Using Ridge, the best model has an estimated test MSE of {round(min_ridge_test_error_estimated, 2)} using a value of lambda = {round(best_lmbd_ridge['lmbd'], 2)}\")"
   ]
  },
  {
   "cell_type": "markdown",
   "metadata": {},
   "source": [
    "**Lasso**\n",
    "\n",
    "With Lasso, instead, we apply a different penalty term:\n",
    "- We still have the tuning parameter(lambda)\n",
    "- The coefficients will be under absolute value, not squared --> this will allow us to touch the axis, a thing that with ridge regression we can't do"
   ]
  },
  {
   "cell_type": "code",
   "execution_count": 1733,
   "metadata": {},
   "outputs": [
    {
     "data": {
      "text/plain": [
       "Text(0, 9467890432326.883, 'Best Ridge estimation')"
      ]
     },
     "execution_count": 1733,
     "metadata": {},
     "output_type": "execute_result"
    },
    {
     "data": {
      "image/png": "[encoded data removed]",
      "text/plain": [
       "<Figure size 640x480 with 1 Axes>"
      ]
     },
     "metadata": {},
     "output_type": "display_data"
    }
   ],
   "source": [
    "# let's now run Lasso instead of Ridge\n",
    "from sklearn.linear_model import Lasso\n",
    "\n",
    "\n",
    "# save test error and lambda values\n",
    "results_lasso = []\n",
    "best_lmbd_lasso = {\"MSE\": float(\"inf\"), \"lmbd\": float(\"inf\")}\n",
    "\n",
    "# iterate over different values of lambda\n",
    "for lmbd in np.linspace(0.0001, 0.05, 100):\n",
    "    # initialize empty array to store mse for each fold\n",
    "    mse_folds = []\n",
    "    # for each fold fit the model\n",
    "    for train_idx, validation_idx in kf.split(X_scaled):\n",
    "        X_train, X_validation = X_scaled.iloc[train_idx], X_scaled.iloc[validation_idx]\n",
    "        y_train, y_validation = y.iloc[train_idx], y.iloc[validation_idx]\n",
    "        model = Lasso(alpha=lmbd).fit(X_train, y_train)\n",
    "        y_pred = model.predict(X_validation)\n",
    "        RSE, R2, MSE = calculate_metrics(y_validation, y_pred, X_subset)\n",
    "        mse_folds.append(MSE)\n",
    "    # estimate test error using the mean of MSE in all folds\n",
    "    test_error_estimated = sum(mse_folds) / len(mse_folds)\n",
    "    # append\n",
    "    results_lasso.append([test_error_estimated, lmbd])\n",
    "    # check if model improved\n",
    "    if test_error_estimated < best_lmbd_lasso[\"MSE\"]:\n",
    "        best_lmbd_lasso[\"MSE\"] = test_error_estimated\n",
    "        best_lmbd_lasso[\"lmbd\"] = lmbd\n",
    "\n",
    "# plot estimated test MSE for each value of lambda\n",
    "fig, ax = plt.subplots(ncols=1, nrows=1)\n",
    "plt.plot([elem[1] for elem in results_lasso], [elem[0] for elem in results_lasso])\n",
    "plt.xlabel(\"Lambda\")\n",
    "plt.ylabel(\"Estimated test error MSE\")\n",
    "plt.axhline(best_metrics[\"MSE\"], color=\"red\")\n",
    "plt.text(0, best_metrics[\"MSE\"] * 1.0001, \"Best OLS estimation\", color=\"red\") # * 1.0001 is used to place the text a bit above best_metrics[\"MSE\"]\n",
    "plt.axhline(min_ridge_test_error_estimated, color=\"green\")\n",
    "plt.text(0, min_ridge_test_error_estimated * 1.0001, \"Best Ridge estimation\", color=\"green\") # * 1.0001 is used to place the text a bit above best_metrics[\"MSE\"]"
   ]
  },
  {
   "cell_type": "code",
   "execution_count": 1734,
   "metadata": {},
   "outputs": [
    {
     "name": "stdout",
     "output_type": "stream",
     "text": [
      "Using OLS, the best model has an estimated test MSE of 9484989328712.31\n",
      "Using Ridge, the best model has an estimated test MSE of 9466943737953.09 using a value of lambda = 13.94\n",
      "Using Lasso, the best model has an estimated test MSE of 9484989251225.94 using a value of lambda = 0.05\n"
     ]
    }
   ],
   "source": [
    "# compare min using Lasso, Ridge and OLS\n",
    "min_lasso_test_error_estimated = min([elem[0] for elem in results_lasso])\n",
    "\n",
    "print(f\"Using OLS, the best model has an estimated test MSE of {round(best_metrics['MSE'], 2)}\")\n",
    "print(f\"Using Ridge, the best model has an estimated test MSE of {round(min_ridge_test_error_estimated, 2)} using a value of lambda = {round(best_lmbd_ridge['lmbd'], 2)}\")\n",
    "print(f\"Using Lasso, the best model has an estimated test MSE of {round(min_lasso_test_error_estimated, 2)} using a value of lambda = {round(best_lmbd_lasso['lmbd'], 2)}\")"
   ]
  },
  {
   "cell_type": "markdown",
   "metadata": {},
   "source": [
    "Principal component analysis is a method borrowed from unsupervised learning. It helps simplifying our model by reducing dimensionality. PCR might help mitigating overfitting, and it is not a feature selection method."
   ]
  },
  {
   "cell_type": "code",
   "execution_count": 1735,
   "metadata": {},
   "outputs": [
    {
     "data": {
      "text/plain": [
       "Text(0, 0.5, 'Estimated test error MSE')"
      ]
     },
     "execution_count": 1735,
     "metadata": {},
     "output_type": "execute_result"
    },
    {
     "data": {
      "image/png": "[encoded data removed]",
      "text/plain": [
       "<Figure size 640x480 with 1 Axes>"
      ]
     },
     "metadata": {},
     "output_type": "display_data"
    }
   ],
   "source": [
    "# let's start from PCA (Principal component analysis)\n",
    "from sklearn.decomposition import PCA\n",
    "\n",
    "# save test error and n_components\n",
    "results_pca = []\n",
    "best_components_pca = {\"MSE\": float(\"inf\"), \"n_components\": float(\"inf\")}\n",
    "\n",
    "# iterate over different values of lambda\n",
    "for n_components in range(1, len(X_scaled.columns) + 1):\n",
    "    # transform using n_components for PCA\n",
    "    pca = PCA(n_components = n_components)\n",
    "    X_pca = pca.fit_transform(X_scaled)\n",
    "    X_pca = pd.DataFrame(X_pca)\n",
    "    \n",
    "    # Add a constant for the intercept term\n",
    "    X_pca = sm.add_constant(X_pca)  \n",
    "    # initialize empty array to store mse for each fold\n",
    "    mse_folds = []\n",
    "    # for each fold fit the model\n",
    "    for train_idx, validation_idx in kf.split(X_pca):\n",
    "        X_train, X_validation = X_pca.iloc[train_idx], X_pca.iloc[validation_idx]\n",
    "        y_train, y_validation = y.iloc[train_idx], y.iloc[validation_idx]\n",
    "        model = sm.OLS(y_train, X_train).fit()\n",
    "        y_pred = model.predict(X_validation)\n",
    "        RSE, R2, MSE = calculate_metrics(y_validation, y_pred, X_subset)\n",
    "        mse_folds.append(MSE)\n",
    "    # estimate test error using the mean of MSE in all folds\n",
    "    test_error_estimated = sum(mse_folds) / len(mse_folds)\n",
    "    # append\n",
    "    results_pca.append([test_error_estimated, n_components])\n",
    "    # check if model improved\n",
    "    if test_error_estimated < best_components_pca[\"MSE\"]:\n",
    "        best_components_pca[\"MSE\"] = test_error_estimated\n",
    "        best_components_pca[\"n_components\"] = n_components\n",
    "\n",
    "# plot estimated test MSE for each value of lambda\n",
    "fig, ax = plt.subplots(ncols=1, nrows=1)\n",
    "plt.plot([elem[1] for elem in results_pca], [elem[0] for elem in results_pca])\n",
    "plt.xlabel(\"N. components\")\n",
    "plt.ylabel(\"Estimated test error MSE\")"
   ]
  },
  {
   "cell_type": "code",
   "execution_count": 1736,
   "metadata": {},
   "outputs": [
    {
     "name": "stdout",
     "output_type": "stream",
     "text": [
      "Using PCA, the best model has an estimated test MSE of 9484989251225.94 using a number of components = 3\n"
     ]
    }
   ],
   "source": [
    "# compare min using Lasso, Ridge and OLS\n",
    "min_pca_test_error_estimated = min([elem[0] for elem in results_lasso])\n",
    "\n",
    "print(f\"Using PCA, the best model has an estimated test MSE of {round(min_pca_test_error_estimated, 2)} using a number of components = {round(best_components_pca['n_components'], 2)}\")"
   ]
  },
  {
   "cell_type": "code",
   "execution_count": 1737,
   "metadata": {},
   "outputs": [
    {
     "data": {
      "text/plain": [
       "Text(0, 0.5, 'Estimated test error MSE')"
      ]
     },
     "execution_count": 1737,
     "metadata": {},
     "output_type": "execute_result"
    },
    {
     "data": {
      "image/png": "[encoded data removed]",
      "text/plain": [
       "<Figure size 640x480 with 1 Axes>"
      ]
     },
     "metadata": {},
     "output_type": "display_data"
    }
   ],
   "source": [
    "# finally, let's see PLS\n",
    "from sklearn.cross_decomposition  import PLSRegression\n",
    "\n",
    "# save test error and n_components\n",
    "results_pls = []\n",
    "best_components_pls = {\"MSE\": float(\"inf\"), \"n_components\": float(\"inf\")}\n",
    "\n",
    "# iterate over different values of lambda\n",
    "for n_components in range(1, len(X_scaled.columns) + 1):\n",
    "    # transform using n_components for PLS\n",
    "    pls = PLSRegression(n_components = n_components)\n",
    "\n",
    "    # Note that for PLS the syntax is a bit different from the previous models\n",
    "    \n",
    "    # initialize empty array to store mse for each fold\n",
    "    mse_folds = []\n",
    "    # for each fold fit the model\n",
    "    for train_idx, validation_idx in kf.split(X_scaled):\n",
    "        X_train, X_validation = X_scaled.iloc[train_idx], X_scaled.iloc[validation_idx]\n",
    "        y_train, y_validation = y.iloc[train_idx], y.iloc[validation_idx]\n",
    "        pls.fit(X_train, y_train)\n",
    "        y_pred = pls.predict(X_validation)\n",
    "        y_pred = pd.Series([elem[0] for elem in y_pred])\n",
    "        RSE, R2, MSE = calculate_metrics(y_validation.reset_index(drop=True), y_pred, X_subset) \n",
    "        \n",
    "        # Note: in the above line there is a \"reset_index\". Why? \n",
    "        # Try to remove it and see what happens\n",
    "        # Make some prints to understand why we need it... it's important to understand why!\n",
    "        \n",
    "        mse_folds.append(MSE)\n",
    "    # estimate test error using the mean of MSE in all folds\n",
    "    test_error_estimated = sum(mse_folds) / len(mse_folds)\n",
    "    # append\n",
    "    results_pls.append([test_error_estimated, n_components])\n",
    "    # check if model improved\n",
    "    if test_error_estimated < best_components_pls[\"MSE\"]:\n",
    "        best_components_pls[\"MSE\"] = test_error_estimated\n",
    "        best_components_pls[\"n_components\"] = n_components\n",
    "\n",
    "# plot estimated test MSE for each value of lambda\n",
    "fig, ax = plt.subplots(ncols=1, nrows=1)\n",
    "plt.plot([elem[1] for elem in results_pls], [elem[0] for elem in results_pls])\n",
    "plt.xlabel(\"N. components\")\n",
    "plt.ylabel(\"Estimated test error MSE\")"
   ]
  },
  {
   "cell_type": "code",
   "execution_count": 1738,
   "metadata": {},
   "outputs": [
    {
     "name": "stdout",
     "output_type": "stream",
     "text": [
      "Using PLS, the best model has an estimated test MSE of 9415377623186.75 using a number of components = 2\n"
     ]
    }
   ],
   "source": [
    "# compare min using Lasso, Ridge and OLS\n",
    "min_pls_test_error_estimated = min([elem[0] for elem in results_pls])\n",
    "\n",
    "print(f\"Using PLS, the best model has an estimated test MSE of {round(min_pls_test_error_estimated, 2)} using a number of components = {round(best_components_pls['n_components'], 2)}\")"
   ]
  },
  {
   "cell_type": "code",
   "execution_count": 1739,
   "metadata": {},
   "outputs": [
    {
     "name": "stdout",
     "output_type": "stream",
     "text": [
      "After fitting all models, the most accurate estimated test MSE is obtained by PLS with a value of 9415377623186.75 using a number of components = 2\n"
     ]
    }
   ],
   "source": [
    "print(f\"After fitting all models, the most accurate estimated test MSE is obtained by PLS with a value of {round(min_pls_test_error_estimated, 2)} using a number of components = {round(best_components_pls['n_components'], 2)}\")"
   ]
  },
  {
   "cell_type": "markdown",
   "metadata": {},
   "source": [
    "As a consequence, those coefficients that we found with multiple linear regression are the coefficient of a model which is not the best one. As we have seen, PLS has better a better MSE than OLS. PLS just finds a vector."
   ]
  },
  {
   "cell_type": "markdown",
   "metadata": {},
   "source": [
    "# Objective 2"
   ]
  },
  {
   "cell_type": "code",
   "execution_count": 1740,
   "metadata": {},
   "outputs": [
    {
     "name": "stdout",
     "output_type": "stream",
     "text": [
      "    market_id  country  market_type  square_feet  avg_customers  \\\n",
      "0        XC14        0            2        11135          773.0   \n",
      "1        WG25        1            0         1402          252.0   \n",
      "2        UX72        1            0         1452          265.0   \n",
      "3        EE84        0            2        15259          874.0   \n",
      "4        RF54        1            0         2497          191.0   \n",
      "..        ...      ...          ...          ...            ...   \n",
      "745      ZM74        2            1         5778          356.0   \n",
      "746      WW60        1            2        10923          907.0   \n",
      "747      LU14        2            1         5742          397.0   \n",
      "748      HY57        2            0         2495          228.0   \n",
      "749      QD17        1            1         6806          516.0   \n",
      "\n",
      "     competitor_distance  has_promotions  sales_amount  \n",
      "0                    515               0  3.647356e+07  \n",
      "1                    522               0  7.605641e+06  \n",
      "2                  15939               0  7.446894e+06  \n",
      "3                    754               0  3.807821e+07  \n",
      "4                  34007               0  7.287603e+06  \n",
      "..                   ...             ...           ...  \n",
      "745                 4424               0  1.429158e+07  \n",
      "746                41359               0  3.717524e+07  \n",
      "747                 2841               0  1.431729e+07  \n",
      "748                 3848               0  6.896005e+06  \n",
      "749                10468               0  1.179984e+07  \n",
      "\n",
      "[750 rows x 8 columns]\n"
     ]
    }
   ],
   "source": [
    "#   Let's start from the dataset that we generated in the previous point. Let's print it to make sure that everything is okay.\n",
    "print(merged_df)"
   ]
  },
  {
   "cell_type": "markdown",
   "metadata": {},
   "source": [
    "The goal now is to select a market, one for each market_type, by maximizing the profit (which is measured by sales_amount). \n",
    "This work will be divided into 3 parts:\n",
    "1. Building the models\n",
    "2. Establishing which is the best\n",
    "    - Define what does it mean \"Best model\"\n",
    "    - Choose the best model\n",
    "3. Apply the best model to suggest which is the best market"
   ]
  },
  {
   "cell_type": "markdown",
   "metadata": {},
   "source": [
    "We' ve already compared some models, by finding out that the one with the best MSE is PSL.\n",
    "We will, indeed, look at MSE in order to pick the model and make the final decision.\n",
    "\n",
    "Why? As we have already said, models with lower MSE  perform better, which means that the values that we predict with our model will be close to the actual ones.\\\n",
    "We want to make a prediction on which market gives the most amount of saless, so we want to use an indicator that measures the accuracy and how likely our predicted data will be close to the actual data."
   ]
  },
  {
   "cell_type": "markdown",
   "metadata": {},
   "source": [
    "**Polinomial regression**\n",
    "\n",
    "The relationship, here, is modelled as a polinomial. As a consequence our data will be up to a power of a number, instead of being all of power 1 (or 0 for B_0).\n",
    "We pick k=4, as we did before. By the way, as we have seen having atleast a k=4 or 5 are useful to make predictions, so it will not cause any issue.\n",
    "\n",
    "**Furthermore** We will look at models with target a quantitative value, as a consequence we will not apply any categorical model."
   ]
  },
  {
   "cell_type": "code",
   "execution_count": 1741,
   "metadata": {},
   "outputs": [
    {
     "name": "stdout",
     "output_type": "stream",
     "text": [
      "The estimated test MSE error is 3734469796944.77\n"
     ]
    }
   ],
   "source": [
    "from sklearn.preprocessing import PolynomialFeatures\n",
    "from sklearn.linear_model import LinearRegression\n",
    "from sklearn.model_selection import KFold\n",
    "\n",
    "# Number of splits for k-fold cross-validation\n",
    "k = 4\n",
    "\n",
    "# Split the data into k folds manually\n",
    "kf = KFold(n_splits=k, shuffle=True, random_state=99)\n",
    "\n",
    "# Initialize an array to store MSE values for each fold\n",
    "mse_folds = []\n",
    "\n",
    "# run k-fold cv\n",
    "for train_idx, validation_idx in kf.split(X_scaled):\n",
    "    X_train, X_validation = X_scaled.iloc[train_idx], X_scaled.iloc[validation_idx]\n",
    "    y_train, y_validation = y.iloc[train_idx], y.iloc[validation_idx]\n",
    "\n",
    "    # polynomial degree 2\n",
    "    poly = PolynomialFeatures(2)\n",
    "    X_train_poly = poly.fit_transform(X_train) # print the columns of X_train_poly: how many columns do you expect? check the documentation to understand why there are so many columns!\n",
    "    X_validation_poly = poly.fit_transform(X_validation)\n",
    "\n",
    "    # fit model\n",
    "    model = LinearRegression()\n",
    "    model.fit(X_train_poly, y_train)\n",
    "\n",
    "    # get predictions\n",
    "    y_pred = model.predict(X_validation_poly)\n",
    "    current_mse = ((y_validation - y_pred)**2).mean()\n",
    "    mse_folds.append(current_mse)\n",
    "\n",
    "   \n",
    "# Calculate the mean MSE across folds\n",
    "estimated_test_error = sum(mse_folds) / len(mse_folds)\n",
    "print(f\"The estimated test MSE error is {round(estimated_test_error, 2)}\")"
   ]
  },
  {
   "cell_type": "markdown",
   "metadata": {},
   "source": [
    "**Splines (GAM)**\n",
    "\n",
    "Generalized Additive models show a way to model non-linear relationships. They do it by fitting a non linear function, which leads to more accuracy and helps on estimating the effect of every X on Y individually. However, it might not be realistic"
   ]
  },
  {
   "cell_type": "code",
   "execution_count": 1742,
   "metadata": {},
   "outputs": [
    {
     "name": "stdout",
     "output_type": "stream",
     "text": [
      "The lowest estimated test error MSE is 4327479113964.15, obtained when lambda = 1.11\n"
     ]
    }
   ],
   "source": [
    "from pygam import LinearGAM, s\n",
    "from functools import reduce\n",
    "import numpy as np\n",
    "\n",
    "# initialize MSE and lambda\n",
    "best_lmbd_gam = {\"MSE\": float(\"inf\"), \"lmbd\": float(\"inf\")}\n",
    "\n",
    "# test different values of lambda (control smoothness)\n",
    "for lmbd in np.linspace(0, 10, 10):\n",
    "\n",
    "    # Initialize an array to store MSE values for each fold\n",
    "    mse_folds = []\n",
    "\n",
    "    # run k-fold cv\n",
    "    for train_idx, validation_idx in kf.split(X_scaled):\n",
    "        X_train, X_validation = X_scaled.iloc[train_idx], X_scaled.iloc[validation_idx]\n",
    "        y_train, y_validation = y.iloc[train_idx], y.iloc[validation_idx]\n",
    "\n",
    "        # fit GAM: for each predictor add a smoothing spline (i.e. s(i)) and use lambda to control smoothness\n",
    "        s_terms = [s(i, lam=lmbd) for i in range(len(X_train.columns))]\n",
    "        gam = LinearGAM(reduce(lambda x, y: x + y, s_terms))\n",
    "        gam.fit(X_train, y_train)\n",
    "\n",
    "        # get predictions\n",
    "        y_pred = gam.predict(X_validation)\n",
    "        current_mse = ((y_validation - y_pred)**2).mean()\n",
    "        mse_folds.append(current_mse)\n",
    "    \n",
    "    # Calculate the mean MSE across folds\n",
    "    estimated_test_error = sum(mse_folds) / len(mse_folds)\n",
    "\n",
    "    # check if the estimated_test_error has decreased\n",
    "    if estimated_test_error < best_lmbd_gam[\"MSE\"]:\n",
    "        best_lmbd_gam[\"MSE\"] = estimated_test_error\n",
    "        best_lmbd_gam[\"lmbd\"] = lmbd\n",
    "\n",
    "print(f\"The lowest estimated test error MSE is {round(best_lmbd_gam['MSE'], 2)}, obtained when lambda = {round(best_lmbd_gam['lmbd'], 2)}\")"
   ]
  },
  {
   "cell_type": "markdown",
   "metadata": {},
   "source": [
    "**Decision trees**\n",
    "\n",
    "Decision trees, as the name suggests, follow a tree structure, their peculiarity is that they are quite versatile and intuitive so they can be used if you care about these things.\n"
   ]
  },
  {
   "cell_type": "code",
   "execution_count": 1743,
   "metadata": {},
   "outputs": [
    {
     "name": "stdout",
     "output_type": "stream",
     "text": [
      "The lowest estimated test error MSE is 3445091388373.09, obtained when alpha = 181252112221.15\n"
     ]
    },
    {
     "data": {
      "text/html": [
       "<style>#sk-container-id-19 {color: black;}#sk-container-id-19 pre{padding: 0;}#sk-container-id-19 div.sk-toggleable {background-color: white;}#sk-container-id-19 label.sk-toggleable__label {cursor: pointer;display: block;width: 100%;margin-bottom: 0;padding: 0.3em;box-sizing: border-box;text-align: center;}#sk-container-id-19 label.sk-toggleable__label-arrow:before {content: \"▸\";float: left;margin-right: 0.25em;color: #696969;}#sk-container-id-19 label.sk-toggleable__label-arrow:hover:before {color: black;}#sk-container-id-19 div.sk-estimator:hover label.sk-toggleable__label-arrow:before {color: black;}#sk-container-id-19 div.sk-toggleable__content {max-height: 0;max-width: 0;overflow: hidden;text-align: left;background-color: #f0f8ff;}#sk-container-id-19 div.sk-toggleable__content pre {margin: 0.2em;color: black;border-radius: 0.25em;background-color: #f0f8ff;}#sk-container-id-19 input.sk-toggleable__control:checked~div.sk-toggleable__content {max-height: 200px;max-width: 100%;overflow: auto;}#sk-container-id-19 input.sk-toggleable__control:checked~label.sk-toggleable__label-arrow:before {content: \"▾\";}#sk-container-id-19 div.sk-estimator input.sk-toggleable__control:checked~label.sk-toggleable__label {background-color: #d4ebff;}#sk-container-id-19 div.sk-label input.sk-toggleable__control:checked~label.sk-toggleable__label {background-color: #d4ebff;}#sk-container-id-19 input.sk-hidden--visually {border: 0;clip: rect(1px 1px 1px 1px);clip: rect(1px, 1px, 1px, 1px);height: 1px;margin: -1px;overflow: hidden;padding: 0;position: absolute;width: 1px;}#sk-container-id-19 div.sk-estimator {font-family: monospace;background-color: #f0f8ff;border: 1px dotted black;border-radius: 0.25em;box-sizing: border-box;margin-bottom: 0.5em;}#sk-container-id-19 div.sk-estimator:hover {background-color: #d4ebff;}#sk-container-id-19 div.sk-parallel-item::after {content: \"\";width: 100%;border-bottom: 1px solid gray;flex-grow: 1;}#sk-container-id-19 div.sk-label:hover label.sk-toggleable__label {background-color: #d4ebff;}#sk-container-id-19 div.sk-serial::before {content: \"\";position: absolute;border-left: 1px solid gray;box-sizing: border-box;top: 0;bottom: 0;left: 50%;z-index: 0;}#sk-container-id-19 div.sk-serial {display: flex;flex-direction: column;align-items: center;background-color: white;padding-right: 0.2em;padding-left: 0.2em;position: relative;}#sk-container-id-19 div.sk-item {position: relative;z-index: 1;}#sk-container-id-19 div.sk-parallel {display: flex;align-items: stretch;justify-content: center;background-color: white;position: relative;}#sk-container-id-19 div.sk-item::before, #sk-container-id-19 div.sk-parallel-item::before {content: \"\";position: absolute;border-left: 1px solid gray;box-sizing: border-box;top: 0;bottom: 0;left: 50%;z-index: -1;}#sk-container-id-19 div.sk-parallel-item {display: flex;flex-direction: column;z-index: 1;position: relative;background-color: white;}#sk-container-id-19 div.sk-parallel-item:first-child::after {align-self: flex-end;width: 50%;}#sk-container-id-19 div.sk-parallel-item:last-child::after {align-self: flex-start;width: 50%;}#sk-container-id-19 div.sk-parallel-item:only-child::after {width: 0;}#sk-container-id-19 div.sk-dashed-wrapped {border: 1px dashed gray;margin: 0 0.4em 0.5em 0.4em;box-sizing: border-box;padding-bottom: 0.4em;background-color: white;}#sk-container-id-19 div.sk-label label {font-family: monospace;font-weight: bold;display: inline-block;line-height: 1.2em;}#sk-container-id-19 div.sk-label-container {text-align: center;}#sk-container-id-19 div.sk-container {/* jupyter's `normalize.less` sets `[hidden] { display: none; }` but bootstrap.min.css set `[hidden] { display: none !important; }` so we also need the `!important` here to be able to override the default hidden behavior on the sphinx rendered scikit-learn.org. See: https://github.com/scikit-learn/scikit-learn/issues/21755 */display: inline-block !important;position: relative;}#sk-container-id-19 div.sk-text-repr-fallback {display: none;}</style><div id=\"sk-container-id-19\" class=\"sk-top-container\"><div class=\"sk-text-repr-fallback\"><pre>DecisionTreeRegressor(ccp_alpha=181252112221.14706, random_state=99)</pre><b>In a Jupyter environment, please rerun this cell to show the HTML representation or trust the notebook. <br />On GitHub, the HTML representation is unable to render, please try loading this page with nbviewer.org.</b></div><div class=\"sk-container\" hidden><div class=\"sk-item\"><div class=\"sk-estimator sk-toggleable\"><input class=\"sk-toggleable__control sk-hidden--visually\" id=\"sk-estimator-id-19\" type=\"checkbox\" checked><label for=\"sk-estimator-id-19\" class=\"sk-toggleable__label sk-toggleable__label-arrow\">DecisionTreeRegressor</label><div class=\"sk-toggleable__content\"><pre>DecisionTreeRegressor(ccp_alpha=181252112221.14706, random_state=99)</pre></div></div></div></div></div>"
      ],
      "text/plain": [
       "DecisionTreeRegressor(ccp_alpha=181252112221.14706, random_state=99)"
      ]
     },
     "execution_count": 1743,
     "metadata": {},
     "output_type": "execute_result"
    }
   ],
   "source": [
    "from sklearn.tree import DecisionTreeRegressor\n",
    "\n",
    "# initialize MSE and alpha\n",
    "best_alpha = {\"MSE\": float(\"inf\"), \"alpha\": float(\"inf\")}\n",
    "\n",
    "# fit a decision tree with all data to derive the alpha values (for tree pruning)\n",
    "tree = DecisionTreeRegressor(random_state=99)\n",
    "tree.fit(X_scaled, y)\n",
    "\n",
    "# get alpha values\n",
    "alphas = []\n",
    "for node in tree.cost_complexity_pruning_path(X_scaled, y).impurities:\n",
    "    alphas.append(max(0, node))\n",
    "    \n",
    "# test different values of alpha (control tree complexity)\n",
    "for alpha in alphas:\n",
    "\n",
    "    # Initialize an array to store MSE values for each fold\n",
    "    mse_folds = []\n",
    "\n",
    "    # run k-fold cv\n",
    "    for train_idx, validation_idx in kf.split(X_scaled):\n",
    "        X_train, X_validation = X_scaled.iloc[train_idx], X_scaled.iloc[validation_idx]\n",
    "        y_train, y_validation = y.iloc[train_idx], y.iloc[validation_idx]\n",
    "\n",
    "        # fit pruned tree\n",
    "        pruned_tree = DecisionTreeRegressor(ccp_alpha=alpha, random_state=99)\n",
    "        pruned_tree.fit(X_train, y_train)\n",
    "\n",
    "        # get predictions\n",
    "        y_pred = pruned_tree.predict(X_validation)\n",
    "        current_mse = ((y_validation - y_pred)**2).mean()\n",
    "        mse_folds.append(current_mse)\n",
    "    \n",
    "    # Calculate the mean MSE across folds\n",
    "    estimated_test_error = sum(mse_folds) / len(mse_folds)\n",
    "\n",
    "    # check if the estimated_test_error has decreased\n",
    "    if estimated_test_error < best_alpha[\"MSE\"]:\n",
    "        best_alpha[\"MSE\"] = estimated_test_error\n",
    "        best_alpha[\"alpha\"] = alpha\n",
    "\n",
    "print(f\"The lowest estimated test error MSE is {round(best_alpha['MSE'], 2)}, obtained when alpha = {round(best_alpha['alpha'], 2)}\")\n",
    "\n",
    "# Train the final decision tree with the best alpha value and evaluate it on the test data\n",
    "final_tree = DecisionTreeRegressor(ccp_alpha=best_alpha['alpha'], random_state=99)\n",
    "final_tree.fit(X_scaled, y)\n"
   ]
  },
  {
   "cell_type": "markdown",
   "metadata": {},
   "source": [
    "In this case, the MSE is not even that bad, but alpha is too high(alpha = 181252112221.15).\\\n",
    "Alpha is a parameter that controlles bias-variance trade-off and is useful to prevent overfitting. A too high alpha is not a good indicator because makes the subtree too small and might lead to overfit.\\\n",
    "We want to avoid such thing if we make a prediction, so I prefer to not choose it.\n"
   ]
  },
  {
   "cell_type": "markdown",
   "metadata": {},
   "source": [
    "**Random forests**\n",
    "\n",
    "Random forest are an ensemple method of decision trees. They are helpful because they reduce correlation by picking a random sample each time.\n",
    "They simplify, so they might be useful to handle complex data."
   ]
  },
  {
   "cell_type": "code",
   "execution_count": 1744,
   "metadata": {},
   "outputs": [
    {
     "name": "stdout",
     "output_type": "stream",
     "text": [
      "The estimated test MSE error is 3404426198841.45\n"
     ]
    }
   ],
   "source": [
    "from sklearn.ensemble import RandomForestRegressor\n",
    "\n",
    "# Initialize an array to store MSE values for each fold\n",
    "mse_folds = []\n",
    "\n",
    "# run k-fold cv\n",
    "for train_idx, validation_idx in kf.split(X_scaled):\n",
    "    X_train, X_validation = X_scaled.iloc[train_idx], X_scaled.iloc[validation_idx]\n",
    "    y_train, y_validation = y.iloc[train_idx], y.iloc[validation_idx]\n",
    "\n",
    "    # create a Random Forest \n",
    "    model = RandomForestRegressor(n_estimators=100, max_features=\"sqrt\", random_state=99)\n",
    "\n",
    "    # fit the model to the training data\n",
    "    model.fit(X_train, y_train)\n",
    "\n",
    "    # make predictions \n",
    "    y_pred = model.predict(X_validation)\n",
    "    current_mse = ((y_validation - y_pred)**2).mean()\n",
    "    mse_folds.append(current_mse)\n",
    "\n",
    "   \n",
    "# Calculate the mean MSE across folds\n",
    "estimated_test_error = sum(mse_folds) / len(mse_folds)\n",
    "print(f\"The estimated test MSE error is {round(estimated_test_error, 2)}\")"
   ]
  },
  {
   "cell_type": "markdown",
   "metadata": {},
   "source": [
    "Look at the next three blocks at the end."
   ]
  },
  {
   "cell_type": "code",
   "execution_count": 1745,
   "metadata": {},
   "outputs": [
    {
     "name": "stdout",
     "output_type": "stream",
     "text": [
      "[7090261.4902]\n",
      "[6795061.7881]\n",
      "[6642669.3283]\n",
      "The highest is the first one\n"
     ]
    },
    {
     "name": "stderr",
     "output_type": "stream",
     "text": [
      "c:\\Users\\AlexD\\anaconda1\\envs\\Project\\lib\\site-packages\\sklearn\\base.py:464: UserWarning: X does not have valid feature names, but RandomForestRegressor was fitted with feature names\n",
      "  warnings.warn(\n",
      "c:\\Users\\AlexD\\anaconda1\\envs\\Project\\lib\\site-packages\\sklearn\\base.py:464: UserWarning: X does not have valid feature names, but RandomForestRegressor was fitted with feature names\n",
      "  warnings.warn(\n",
      "c:\\Users\\AlexD\\anaconda1\\envs\\Project\\lib\\site-packages\\sklearn\\base.py:464: UserWarning: X does not have valid feature names, but RandomForestRegressor was fitted with feature names\n",
      "  warnings.warn(\n"
     ]
    }
   ],
   "source": [
    "X11=pd.DataFrame ({\n",
    "   'square_feet': ['1850'],\n",
    "    'avg_customers': ['190'],\n",
    "    'competitor_distance': ['4500'],\n",
    "    'market_type': ['0'],\n",
    "   'has_promotions': ['0']\n",
    "})\n",
    "scaler = StandardScaler()\n",
    "scaler.fit(X_subset)\n",
    "X11_scaled=scaler.transform(X11)\n",
    "#print(X1_scaled)\n",
    "y11_pred = model.predict(X11_scaled)\n",
    "print(y11_pred)\n",
    "\n",
    "X21=pd.DataFrame ({\n",
    "   'square_feet': ['2100'],\n",
    "    'avg_customers': ['225'],\n",
    "    'competitor_distance': ['1850'],\n",
    "    'market_type': ['0'],\n",
    "   'has_promotions': ['0']\n",
    "})\n",
    "scaler = StandardScaler()\n",
    "scaler.fit(X_subset)\n",
    "X21_scaled=scaler.transform(X21)\n",
    "#print(X2_scaled)\n",
    "y21_pred = model.predict(X21_scaled)\n",
    "print(y21_pred)\n",
    "\n",
    "X31=pd.DataFrame ({\n",
    "   'square_feet': ['1920'],\n",
    "    'avg_customers': ['220'],\n",
    "    'competitor_distance': ['1450'],\n",
    "    'market_type': ['0'],\n",
    "   'has_promotions': ['0']\n",
    "})\n",
    "scaler = StandardScaler()\n",
    "scaler.fit(X_subset)\n",
    "X31_scaled=scaler.transform(X31)\n",
    "#print(X3_scaled)\n",
    "y31_pred = model.predict(X31_scaled)\n",
    "print(y31_pred)\n",
    "\n",
    "print(\"The highest is the first one\")"
   ]
  },
  {
   "cell_type": "code",
   "execution_count": 1746,
   "metadata": {},
   "outputs": [
    {
     "name": "stdout",
     "output_type": "stream",
     "text": [
      "[14997217.85230001]\n",
      "[13240075.5991]\n",
      "[13467889.44790001]\n",
      "The highest is the first one\n"
     ]
    },
    {
     "name": "stderr",
     "output_type": "stream",
     "text": [
      "c:\\Users\\AlexD\\anaconda1\\envs\\Project\\lib\\site-packages\\sklearn\\base.py:464: UserWarning: X does not have valid feature names, but RandomForestRegressor was fitted with feature names\n",
      "  warnings.warn(\n",
      "c:\\Users\\AlexD\\anaconda1\\envs\\Project\\lib\\site-packages\\sklearn\\base.py:464: UserWarning: X does not have valid feature names, but RandomForestRegressor was fitted with feature names\n",
      "  warnings.warn(\n",
      "c:\\Users\\AlexD\\anaconda1\\envs\\Project\\lib\\site-packages\\sklearn\\base.py:464: UserWarning: X does not have valid feature names, but RandomForestRegressor was fitted with feature names\n",
      "  warnings.warn(\n"
     ]
    }
   ],
   "source": [
    "X12=pd.DataFrame ({\n",
    "   'square_feet': ['5880'],\n",
    "    'avg_customers': ['420'],\n",
    "    'competitor_distance': ['580'],\n",
    "    'market_type': ['1'],\n",
    "   'has_promotions': ['0']\n",
    "})\n",
    "scaler = StandardScaler()\n",
    "scaler.fit(X_subset)\n",
    "X12_scaled=scaler.transform(X12)\n",
    "#print(X1_scaled)\n",
    "y12_pred = model.predict(X12_scaled)\n",
    "print(y12_pred)\n",
    "\n",
    "X22=pd.DataFrame ({\n",
    "   'square_feet': ['5120'],\n",
    "    'avg_customers': ['390'],\n",
    "    'competitor_distance': ['2560'],\n",
    "    'market_type': ['1'],\n",
    "   'has_promotions': ['0']\n",
    "})\n",
    "scaler = StandardScaler()\n",
    "scaler.fit(X_subset)\n",
    "X22_scaled=scaler.transform(X22)\n",
    "#print(X2_scaled)\n",
    "y22_pred = model.predict(X22_scaled)\n",
    "print(y22_pred)\n",
    "\n",
    "X32=pd.DataFrame ({\n",
    "   'square_feet': ['4970'],\n",
    "    'avg_customers': ['410'],\n",
    "    'competitor_distance': ['3520'],\n",
    "    'market_type': ['1'],\n",
    "   'has_promotions': ['0']\n",
    "})\n",
    "scaler = StandardScaler()\n",
    "scaler.fit(X_subset)\n",
    "X32_scaled=scaler.transform(X32)\n",
    "#print(X3_scaled)\n",
    "y32_pred = model.predict(X32_scaled)\n",
    "print(y32_pred)\n",
    "print(\"The highest is the first one\")"
   ]
  },
  {
   "cell_type": "code",
   "execution_count": 1747,
   "metadata": {},
   "outputs": [
    {
     "name": "stdout",
     "output_type": "stream",
     "text": [
      "[34454812.05320001]\n",
      "[36803788.7305]\n",
      "[34544905.6371]\n",
      "The highest is the second one\n"
     ]
    },
    {
     "name": "stderr",
     "output_type": "stream",
     "text": [
      "c:\\Users\\AlexD\\anaconda1\\envs\\Project\\lib\\site-packages\\sklearn\\base.py:464: UserWarning: X does not have valid feature names, but RandomForestRegressor was fitted with feature names\n",
      "  warnings.warn(\n",
      "c:\\Users\\AlexD\\anaconda1\\envs\\Project\\lib\\site-packages\\sklearn\\base.py:464: UserWarning: X does not have valid feature names, but RandomForestRegressor was fitted with feature names\n",
      "  warnings.warn(\n",
      "c:\\Users\\AlexD\\anaconda1\\envs\\Project\\lib\\site-packages\\sklearn\\base.py:464: UserWarning: X does not have valid feature names, but RandomForestRegressor was fitted with feature names\n",
      "  warnings.warn(\n"
     ]
    }
   ],
   "source": [
    "X13=pd.DataFrame ({\n",
    "   'square_feet': ['10560'],\n",
    "    'avg_customers': ['860'],\n",
    "    'competitor_distance': ['8940'],\n",
    "    'market_type': ['2'],\n",
    "   'has_promotions': ['0']\n",
    "})\n",
    "scaler = StandardScaler()\n",
    "scaler.fit(X_subset)\n",
    "X13_scaled=scaler.transform(X13)\n",
    "#print(X1_scaled)\n",
    "y13_pred = model.predict(X13_scaled)\n",
    "print(y1_pred)\n",
    "\n",
    "X23=pd.DataFrame ({\n",
    "   'square_feet': ['12570'],\n",
    "    'avg_customers': ['880'],\n",
    "    'competitor_distance': ['7580'],\n",
    "    'market_type': ['2'],\n",
    "   'has_promotions': ['0']\n",
    "})\n",
    "scaler = StandardScaler()\n",
    "scaler.fit(X_subset)\n",
    "X23_scaled=scaler.transform(X23)\n",
    "#print(X2_scaled)\n",
    "y23_pred = model.predict(X23_scaled)\n",
    "print(y23_pred)\n",
    "\n",
    "X33=pd.DataFrame ({\n",
    "   'square_feet': ['11980'],\n",
    "    'avg_customers': ['790'],\n",
    "    'competitor_distance': ['11560'],\n",
    "    'market_type': ['2'],\n",
    "   'has_promotions': ['0']\n",
    "})\n",
    "scaler = StandardScaler()\n",
    "scaler.fit(X_subset)\n",
    "X33_scaled=scaler.transform(X33)\n",
    "#print(X3_scaled)\n",
    "y33_pred = model.predict(X3_scaled)\n",
    "print(y33_pred)\n",
    "print(\"The highest is the second one\")"
   ]
  },
  {
   "cell_type": "markdown",
   "metadata": {},
   "source": [
    "**Gradient Boosting**\n",
    "Gradient boosting are an ensemble method, too. Rather than picking randomly as random forests, they correct each time."
   ]
  },
  {
   "cell_type": "code",
   "execution_count": 1748,
   "metadata": {},
   "outputs": [
    {
     "name": "stdout",
     "output_type": "stream",
     "text": [
      "The estimated test MSE error is 3620444648549.66\n"
     ]
    }
   ],
   "source": [
    "from sklearn.ensemble import GradientBoostingRegressor\n",
    "\n",
    "# Initialize an array to store MSE values for each fold\n",
    "mse_folds = []\n",
    "\n",
    "# run k-fold cv\n",
    "for train_idx, validation_idx in kf.split(X_scaled):\n",
    "    X_train, X_validation = X_scaled.iloc[train_idx], X_scaled.iloc[validation_idx]\n",
    "    y_train, y_validation = y.iloc[train_idx], y.iloc[validation_idx]\n",
    "\n",
    "    # create a Random Forest \n",
    "    model = GradientBoostingRegressor(n_estimators=100, learning_rate=0.1, random_state=99)\n",
    "\n",
    "    # fit the model to the training data\n",
    "    model.fit(X_train, y_train)\n",
    "\n",
    "    # make predictions \n",
    "    y_pred = model.predict(X_validation)\n",
    "    current_mse = ((y_validation - y_pred)**2).mean()\n",
    "    mse_folds.append(current_mse)\n",
    "\n",
    "   \n",
    "# Calculate the mean MSE across folds\n",
    "estimated_test_error = sum(mse_folds) / len(mse_folds)\n",
    "print(f\"The estimated test MSE error is {round(estimated_test_error, 2)}\")"
   ]
  },
  {
   "cell_type": "markdown",
   "metadata": {},
   "source": [
    "**Support vector regression**\n",
    "\n",
    "Support vector regression uses Support vector machines, in order to perform a regression. It uses hyperplane that best fit the data.\\\n",
    "Again, we will use SVR with quantitative target, not categorical."
   ]
  },
  {
   "cell_type": "code",
   "execution_count": 1749,
   "metadata": {},
   "outputs": [
    {
     "name": "stdout",
     "output_type": "stream",
     "text": [
      "{'C': 100.0, 'gamma': 0.45, 'kernel': 'rbf'}\n"
     ]
    }
   ],
   "source": [
    "from sklearn.svm import SVR\n",
    "from sklearn.model_selection import GridSearchCV\n",
    "import numpy as np\n",
    "\n",
    "# find best parameters\n",
    "parameters = {\n",
    "    'C': np.linspace(1, 100, 10).tolist(), \n",
    "    'kernel': ['rbf'],\n",
    "    'gamma': ['scale', 'auto'] + np.linspace(0.01, 1, 10).tolist(), \n",
    "}\n",
    "\n",
    "# Create the SVM model\n",
    "svm = SVR()\n",
    "\n",
    "# Create the GridSearchCV\n",
    "grid_search = GridSearchCV(svm, parameters, cv=5)  \n",
    "\n",
    "# Fit the GridSearchCV to the training data\n",
    "grid_search.fit(X_scaled, y)\n",
    "\n",
    "# Get the best parameters and the best score\n",
    "best_params = grid_search.best_params_\n",
    "\n",
    "print(best_params)"
   ]
  },
  {
   "cell_type": "code",
   "execution_count": 1750,
   "metadata": {},
   "outputs": [
    {
     "name": "stdout",
     "output_type": "stream",
     "text": [
      "The estimated test MSE error is 111177724457956.4\n"
     ]
    }
   ],
   "source": [
    "# Now we can run k-fold using the best parameters\n",
    "\n",
    "# Initialize an array to store MSE values for each fold\n",
    "mse_folds = []\n",
    "\n",
    "# run k-fold cv\n",
    "for train_idx, validation_idx in kf.split(X_scaled):\n",
    "    X_train, X_validation = X_scaled.iloc[train_idx], X_scaled.iloc[validation_idx]\n",
    "    y_train, y_validation = y.iloc[train_idx], y.iloc[validation_idx]\n",
    "\n",
    "    # fit model\n",
    "    model = SVR(C=best_params[\"C\"], kernel=best_params[\"kernel\"], gamma=best_params[\"gamma\"]) \n",
    "    model.fit(X_train, y_train)\n",
    "\n",
    "    # get predictions\n",
    "    y_pred = model.predict(X_validation)\n",
    "    current_mse = ((y_validation - y_pred)**2).mean()\n",
    "    mse_folds.append(current_mse)\n",
    "\n",
    "# Calculate the mean MSE across folds\n",
    "estimated_test_error = sum(mse_folds) / len(mse_folds)\n",
    "print(f\"The estimated test MSE error is {round(estimated_test_error, 2)}\")"
   ]
  },
  {
   "cell_type": "markdown",
   "metadata": {},
   "source": [
    "**Neural Network (Regression)**\n",
    "\n",
    "We are using Neural networks that borrow their concept from human brain where each neuron takes an input and computes it, in order  to generate an output.\\\n",
    "We will need to use pytorch."
   ]
  },
  {
   "cell_type": "code",
   "execution_count": 1751,
   "metadata": {},
   "outputs": [],
   "source": [
    "import torch"
   ]
  },
  {
   "cell_type": "code",
   "execution_count": 1752,
   "metadata": {},
   "outputs": [],
   "source": [
    "X = X[best_features]\n",
    "y = y.to_numpy().reshape(-1, 1)  # reshape y, we need a numpy array\n",
    "\n",
    "# standardize the input features\n",
    "scaler = StandardScaler()\n",
    "X = scaler.fit_transform(X)\n",
    "\n",
    "# split the data into training and validation sets\n",
    "X_train, X_val, y_train, y_val = train_test_split(X, y, test_size=0.2, random_state=42)"
   ]
  },
  {
   "cell_type": "code",
   "execution_count": 1753,
   "metadata": {},
   "outputs": [],
   "source": [
    "torch.manual_seed(99)\n",
    "\n",
    "# convert the numpy arrays to pytorch tensors\n",
    "X_train_tensor = torch.FloatTensor(X_train)\n",
    "y_train_tensor = torch.FloatTensor(y_train)\n",
    "X_val_tensor = torch.FloatTensor(X_val)\n",
    "y_val_tensor = torch.FloatTensor(y_val)"
   ]
  },
  {
   "cell_type": "code",
   "execution_count": 1754,
   "metadata": {},
   "outputs": [],
   "source": [
    "input_size = X_train.shape[1]\n",
    "hidden_sizes = [100, 5]\n",
    "output_size = 1\n",
    "learning_rate = 1e-3\n",
    "num_epochs = 100\n",
    "batch_size = 8"
   ]
  },
  {
   "cell_type": "code",
   "execution_count": 1755,
   "metadata": {},
   "outputs": [
    {
     "name": "stdout",
     "output_type": "stream",
     "text": [
      "Epoch [10/100], Training Loss: 3463083945250258944.0000\n",
      "Epoch [20/100], Training Loss: 172620971918753792.0000\n",
      "Epoch [30/100], Training Loss: 8794763729829888.0000\n",
      "Epoch [40/100], Training Loss: 552476608561152.0000\n",
      "Epoch [50/100], Training Loss: 118769821155328.0000\n",
      "Epoch [60/100], Training Loss: 91765658877952.0000\n",
      "Epoch [70/100], Training Loss: 89205212446720.0000\n",
      "Epoch [80/100], Training Loss: 88806275416064.0000\n",
      "Epoch [90/100], Training Loss: 88725904162816.0000\n",
      "Epoch [100/100], Training Loss: 88708447469568.0000\n",
      "The estimated test MSE is: 90526158159872.0\n"
     ]
    }
   ],
   "source": [
    "import torch.nn as nn\n",
    "import torch.optim as optim\n",
    "\n",
    "# define NN architecture\n",
    "def create_model(input_size, hidden_sizes, output_size):\n",
    "    layers = []\n",
    "    for i in range(len(hidden_sizes)):\n",
    "        if i == 0:\n",
    "            layers.append(nn.Linear(input_size, hidden_sizes[i]))\n",
    "        else:\n",
    "            layers.append(nn.Linear(hidden_sizes[i-1], hidden_sizes[i]))\n",
    "        layers.append(nn.ReLU())\n",
    "    layers.append(nn.Linear(hidden_sizes[-1], output_size))\n",
    "    return nn.Sequential(*layers)\n",
    "\n",
    "# call the model\n",
    "model = create_model(input_size, hidden_sizes, output_size)\n",
    "\n",
    "# define the loss function: MSE\n",
    "criterion = nn.MSELoss()\n",
    "\n",
    "# optimizer: in pytorch \"gradient descent\" is called SDG (stochastic gradient descent)\n",
    "optimizer = optim.SGD(model.parameters(), lr=learning_rate)\n",
    "\n",
    "# for each epoch, do forward and backward\n",
    "for epoch in range(num_epochs):\n",
    "    for start in range(0, X_train_tensor.size(0), batch_size):\n",
    "        # get batch\n",
    "        X_batch = X_train_tensor[start: start+batch_size]\n",
    "        y_batch = y_train_tensor[start: start+batch_size]\n",
    "\n",
    "        # forward pass\n",
    "        outputs = model.forward(X_batch)\n",
    "        loss = criterion(outputs, y_batch)\n",
    "\n",
    "        # backward pass and optimization (gradient descent)\n",
    "        optimizer.zero_grad()  # reset gradient otherwise pytorch will use values from the previous iteration\n",
    "        loss.backward() \n",
    "        optimizer.step()\n",
    "\n",
    "    # print the loss at every 10 epochs\n",
    "    if (epoch + 1) % 10 == 0:\n",
    "        print(f'Epoch [{epoch+1}/{num_epochs}], Training Loss: {loss.item():.4f}')\n",
    "\n",
    "# evaluate the model on the validation set\n",
    "with torch.no_grad():\n",
    "    model.eval()\n",
    "    y_pred = model.forward(X_val_tensor)\n",
    "    valid_loss = criterion(y_pred, y_val_tensor)\n",
    "    print(f'The estimated test MSE is: {valid_loss.item()}')"
   ]
  },
  {
   "cell_type": "markdown",
   "metadata": {},
   "source": [
    "After having done all the work, we can say that the model with the lower MSE is: Random forests.\n",
    "As a consequence, we will use this model in order to make prediction on which market will provide more sales."
   ]
  },
  {
   "cell_type": "markdown",
   "metadata": {},
   "source": [
    "To not make the code heavier, I actually performed the prevision Ex-Post under the Building of the model, you can go back to see the results and the procedure.\n",
    "We can say, by our model that the markets that, given the data, maximize the sales are:\n",
    "- OPTION SPAIN for MINI \n",
    "- OPTION SPAIN FOR SUPER\n",
    "- OPTION FRANCE FOR HYPER"
   ]
  }
 ],
 "metadata": {
  "kernelspec": {
   "display_name": "Project",
   "language": "python",
   "name": "python3"
  },
  "language_info": {
   "codemirror_mode": {
    "name": "ipython",
    "version": 3
   },
   "file_extension": ".py",
   "mimetype": "text/x-python",
   "name": "python",
   "nbconvert_exporter": "python",
   "pygments_lexer": "ipython3",
   "version": "3.10.13"
  }
 },
 "nbformat": 4,
 "nbformat_minor": 2
}
